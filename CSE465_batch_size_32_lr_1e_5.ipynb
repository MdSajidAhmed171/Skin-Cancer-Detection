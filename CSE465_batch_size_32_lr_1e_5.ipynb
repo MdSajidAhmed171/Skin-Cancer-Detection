{
  "nbformat": 4,
  "nbformat_minor": 0,
  "metadata": {
    "accelerator": "GPU",
    "colab": {
      "name": "CSE499B_batch_size_32_lr_2e-4.ipynb",
      "provenance": [],
      "collapsed_sections": [],
      "toc_visible": true
    },
    "kernelspec": {
      "display_name": "Python 3",
      "name": "python3"
    },
    "widgets": {
      "application/vnd.jupyter.widget-state+json": {
        "0d76f22c22ac46c682bcb87f1d572ea3": {
          "model_module": "@jupyter-widgets/controls",
          "model_name": "HBoxModel",
          "state": {
            "_view_name": "HBoxView",
            "_dom_classes": [],
            "_model_name": "HBoxModel",
            "_view_module": "@jupyter-widgets/controls",
            "_model_module_version": "1.5.0",
            "_view_count": null,
            "_view_module_version": "1.5.0",
            "box_style": "",
            "layout": "IPY_MODEL_7fe2476749604fb6b861f91f60a8e797",
            "_model_module": "@jupyter-widgets/controls",
            "children": [
              "IPY_MODEL_fcf10cc9b39940b999bc2858f9d5276a",
              "IPY_MODEL_6b1f65c47f744d2da9897b1ac152858d"
            ]
          }
        },
        "7fe2476749604fb6b861f91f60a8e797": {
          "model_module": "@jupyter-widgets/base",
          "model_name": "LayoutModel",
          "state": {
            "_view_name": "LayoutView",
            "grid_template_rows": null,
            "right": null,
            "justify_content": null,
            "_view_module": "@jupyter-widgets/base",
            "overflow": null,
            "_model_module_version": "1.2.0",
            "_view_count": null,
            "flex_flow": null,
            "width": null,
            "min_width": null,
            "border": null,
            "align_items": null,
            "bottom": null,
            "_model_module": "@jupyter-widgets/base",
            "top": null,
            "grid_column": null,
            "overflow_y": null,
            "overflow_x": null,
            "grid_auto_flow": null,
            "grid_area": null,
            "grid_template_columns": null,
            "flex": null,
            "_model_name": "LayoutModel",
            "justify_items": null,
            "grid_row": null,
            "max_height": null,
            "align_content": null,
            "visibility": null,
            "align_self": null,
            "height": null,
            "min_height": null,
            "padding": null,
            "grid_auto_rows": null,
            "grid_gap": null,
            "max_width": null,
            "order": null,
            "_view_module_version": "1.2.0",
            "grid_template_areas": null,
            "object_position": null,
            "object_fit": null,
            "grid_auto_columns": null,
            "margin": null,
            "display": null,
            "left": null
          }
        },
        "fcf10cc9b39940b999bc2858f9d5276a": {
          "model_module": "@jupyter-widgets/controls",
          "model_name": "FloatProgressModel",
          "state": {
            "_view_name": "ProgressView",
            "style": "IPY_MODEL_16e41c07f9f7458589df23855f3efdbd",
            "_dom_classes": [],
            "description": "100%",
            "_model_name": "FloatProgressModel",
            "bar_style": "success",
            "max": 46827520,
            "_view_module": "@jupyter-widgets/controls",
            "_model_module_version": "1.5.0",
            "value": 46827520,
            "_view_count": null,
            "_view_module_version": "1.5.0",
            "orientation": "horizontal",
            "min": 0,
            "description_tooltip": null,
            "_model_module": "@jupyter-widgets/controls",
            "layout": "IPY_MODEL_37237a7ce9f748e4a3b0607d678c5055"
          }
        },
        "6b1f65c47f744d2da9897b1ac152858d": {
          "model_module": "@jupyter-widgets/controls",
          "model_name": "HTMLModel",
          "state": {
            "_view_name": "HTMLView",
            "style": "IPY_MODEL_f1afa5c7df694f5fb45f14e115fa5bb1",
            "_dom_classes": [],
            "description": "",
            "_model_name": "HTMLModel",
            "placeholder": "​",
            "_view_module": "@jupyter-widgets/controls",
            "_model_module_version": "1.5.0",
            "value": " 44.7M/44.7M [4:06:49&lt;00:00, 3.16kB/s]",
            "_view_count": null,
            "_view_module_version": "1.5.0",
            "description_tooltip": null,
            "_model_module": "@jupyter-widgets/controls",
            "layout": "IPY_MODEL_d23904201a9c4d5ebf063f50778e52ec"
          }
        },
        "16e41c07f9f7458589df23855f3efdbd": {
          "model_module": "@jupyter-widgets/controls",
          "model_name": "ProgressStyleModel",
          "state": {
            "_view_name": "StyleView",
            "_model_name": "ProgressStyleModel",
            "description_width": "initial",
            "_view_module": "@jupyter-widgets/base",
            "_model_module_version": "1.5.0",
            "_view_count": null,
            "_view_module_version": "1.2.0",
            "bar_color": null,
            "_model_module": "@jupyter-widgets/controls"
          }
        },
        "37237a7ce9f748e4a3b0607d678c5055": {
          "model_module": "@jupyter-widgets/base",
          "model_name": "LayoutModel",
          "state": {
            "_view_name": "LayoutView",
            "grid_template_rows": null,
            "right": null,
            "justify_content": null,
            "_view_module": "@jupyter-widgets/base",
            "overflow": null,
            "_model_module_version": "1.2.0",
            "_view_count": null,
            "flex_flow": null,
            "width": null,
            "min_width": null,
            "border": null,
            "align_items": null,
            "bottom": null,
            "_model_module": "@jupyter-widgets/base",
            "top": null,
            "grid_column": null,
            "overflow_y": null,
            "overflow_x": null,
            "grid_auto_flow": null,
            "grid_area": null,
            "grid_template_columns": null,
            "flex": null,
            "_model_name": "LayoutModel",
            "justify_items": null,
            "grid_row": null,
            "max_height": null,
            "align_content": null,
            "visibility": null,
            "align_self": null,
            "height": null,
            "min_height": null,
            "padding": null,
            "grid_auto_rows": null,
            "grid_gap": null,
            "max_width": null,
            "order": null,
            "_view_module_version": "1.2.0",
            "grid_template_areas": null,
            "object_position": null,
            "object_fit": null,
            "grid_auto_columns": null,
            "margin": null,
            "display": null,
            "left": null
          }
        },
        "f1afa5c7df694f5fb45f14e115fa5bb1": {
          "model_module": "@jupyter-widgets/controls",
          "model_name": "DescriptionStyleModel",
          "state": {
            "_view_name": "StyleView",
            "_model_name": "DescriptionStyleModel",
            "description_width": "",
            "_view_module": "@jupyter-widgets/base",
            "_model_module_version": "1.5.0",
            "_view_count": null,
            "_view_module_version": "1.2.0",
            "_model_module": "@jupyter-widgets/controls"
          }
        },
        "d23904201a9c4d5ebf063f50778e52ec": {
          "model_module": "@jupyter-widgets/base",
          "model_name": "LayoutModel",
          "state": {
            "_view_name": "LayoutView",
            "grid_template_rows": null,
            "right": null,
            "justify_content": null,
            "_view_module": "@jupyter-widgets/base",
            "overflow": null,
            "_model_module_version": "1.2.0",
            "_view_count": null,
            "flex_flow": null,
            "width": null,
            "min_width": null,
            "border": null,
            "align_items": null,
            "bottom": null,
            "_model_module": "@jupyter-widgets/base",
            "top": null,
            "grid_column": null,
            "overflow_y": null,
            "overflow_x": null,
            "grid_auto_flow": null,
            "grid_area": null,
            "grid_template_columns": null,
            "flex": null,
            "_model_name": "LayoutModel",
            "justify_items": null,
            "grid_row": null,
            "max_height": null,
            "align_content": null,
            "visibility": null,
            "align_self": null,
            "height": null,
            "min_height": null,
            "padding": null,
            "grid_auto_rows": null,
            "grid_gap": null,
            "max_width": null,
            "order": null,
            "_view_module_version": "1.2.0",
            "grid_template_areas": null,
            "object_position": null,
            "object_fit": null,
            "grid_auto_columns": null,
            "margin": null,
            "display": null,
            "left": null
          }
        }
      }
    }
  },
  "cells": [
    {
      "cell_type": "markdown",
      "metadata": {
        "id": "V6YDfK_IZmiY"
      },
      "source": [
        "**IMPORTING LIBRARIES**"
      ]
    },
    {
      "cell_type": "code",
      "metadata": {
        "id": "SUj4LOknyJzD",
        "colab": {
          "base_uri": "https://localhost:8080/"
        },
        "outputId": "923dba7a-c9f6-4e56-f3b5-ef1d43c859f9"
      },
      "source": [
        "%matplotlib inline\n",
        "# python libraties\n",
        "import os, cv2,itertools\n",
        "import matplotlib.pyplot as plt\n",
        "import numpy as np\n",
        "import pandas as pd\n",
        "import pickle\n",
        "from tqdm import tqdm\n",
        "from glob import glob\n",
        "from PIL import Image\n",
        "\n",
        "# pytorch libraries\n",
        "import torch\n",
        "from torch import optim,nn\n",
        "from torch.autograd import Variable\n",
        "from torch.utils.data import DataLoader,Dataset\n",
        "from torchvision import models,transforms\n",
        "\n",
        "# sklearn libraries\n",
        "from sklearn.metrics import confusion_matrix\n",
        "from sklearn.model_selection import train_test_split\n",
        "from sklearn.metrics import classification_report\n",
        "\n",
        "\n",
        "np.random.seed(10)\n",
        "torch.manual_seed(10)\n",
        "torch.cuda.manual_seed(10)\n",
        "\n",
        "print(os.listdir(\"/content/drive/MyDrive/input\"))"
      ],
      "execution_count": 2,
      "outputs": [
        {
          "output_type": "stream",
          "text": [
            "['HAM10000_metadata.csv', 'hmnist_28_28_L.csv', 'hmnist_28_28_RGB.csv', 'hmnist_8_8_L.csv', 'hmnist_8_8_RGB.csv', 'HAM10000_images_part_2', 'HAM10000_images_part_1']\n"
          ],
          "name": "stdout"
        }
      ]
    },
    {
      "cell_type": "code",
      "metadata": {
        "id": "Rh90iHEtaDJ2",
        "colab": {
          "base_uri": "https://localhost:8080/"
        },
        "outputId": "2c4a08ba-8c6b-4418-ce04-516ba44b4862"
      },
      "source": [
        "\n",
        "from google.colab import drive\n",
        "drive.mount('/content/drive')"
      ],
      "execution_count": 3,
      "outputs": [
        {
          "output_type": "stream",
          "text": [
            "Drive already mounted at /content/drive; to attempt to forcibly remount, call drive.mount(\"/content/drive\", force_remount=True).\n"
          ],
          "name": "stdout"
        }
      ]
    },
    {
      "cell_type": "markdown",
      "metadata": {
        "id": "o0mXqIfHjrY3"
      },
      "source": [
        "# New Section"
      ]
    },
    {
      "cell_type": "markdown",
      "metadata": {
        "id": "7lfWWyG8ZxcW"
      },
      "source": [
        "**Data analysis and preprocessing**"
      ]
    },
    {
      "cell_type": "code",
      "metadata": {
        "id": "dVrJGWevZy9F"
      },
      "source": [
        "data_dir = '/content/drive/MyDrive/input'\n",
        "all_image_path = glob(os.path.join(data_dir, '*', '*.jpg'))\n",
        "imageid_path_dict = {os.path.splitext(os.path.basename(x))[0]: x for x in all_image_path}\n",
        "lesion_type_dict = {\n",
        "    'nv': 'Melanocytic nevi',\n",
        "    'mel': 'dermatofibroma',\n",
        "    'bkl': 'Benign keratosis-like lesions ',\n",
        "    'bcc': 'Basal cell carcinoma',\n",
        "    'akiec': 'Actinic keratoses',\n",
        "    'vasc': 'Vascular lesions',\n",
        "    'df': 'Dermatofibroma'\n",
        "}"
      ],
      "execution_count": 4,
      "outputs": []
    },
    {
      "cell_type": "code",
      "metadata": {
        "id": "hf4RuHBceJd8"
      },
      "source": [
        "def compute_img_mean_std(image_paths):\n",
        "    \"\"\"\n",
        "        computing the mean and std of three channel on the whole dataset,\n",
        "        first we should normalize the image from 0-255 to 0-1\n",
        "    \"\"\"\n",
        "\n",
        "    img_h, img_w = 224, 224\n",
        "    imgs = []\n",
        "    means, stdevs = [], []\n",
        "\n",
        "    for i in tqdm(range(len(image_paths))):\n",
        "        img = cv2.imread(image_paths[i])\n",
        "        img = cv2.resize(img, (img_h, img_w))\n",
        "        imgs.append(img)\n",
        "\n",
        "    imgs = np.stack(imgs, axis=3)\n",
        "    print(imgs.shape)\n",
        "\n",
        "    imgs = imgs.astype(np.float32) / 255.\n",
        "\n",
        "    for i in range(3):\n",
        "        pixels = imgs[:, :, i, :].ravel()  # resize to one row\n",
        "        means.append(np.mean(pixels))\n",
        "        stdevs.append(np.std(pixels))\n",
        "\n",
        "    means.reverse()  # BGR --> RGB\n",
        "    stdevs.reverse()\n",
        "\n",
        "    print(\"normMean = {}\".format(means))\n",
        "    print(\"normStd = {}\".format(stdevs))\n",
        "    return means,stdevs"
      ],
      "execution_count": 5,
      "outputs": []
    },
    {
      "cell_type": "code",
      "metadata": {
        "id": "_rFELfmseKxV"
      },
      "source": [
        "# norm_mean,norm_std = compute_img_mean_std(all_image_path)"
      ],
      "execution_count": 6,
      "outputs": []
    },
    {
      "cell_type": "code",
      "metadata": {
        "id": "eM-17oP-pMYs"
      },
      "source": [
        "norm_mean = (0.763035, 0.54564625, 0.5700399)\n",
        "norm_std = (0.1409281, 0.15261264, 0.16997051)"
      ],
      "execution_count": 7,
      "outputs": []
    },
    {
      "cell_type": "code",
      "metadata": {
        "id": "jfALDyx-eM9t",
        "colab": {
          "base_uri": "https://localhost:8080/",
          "height": 363
        },
        "outputId": "ce7b9ac2-cc76-42c9-8965-ea76b53cf222"
      },
      "source": [
        "df_original = pd.read_csv(os.path.join(data_dir, 'HAM10000_metadata.csv'))\n",
        "df_original['path'] = df_original['image_id'].map(imageid_path_dict.get)\n",
        "df_original['cell_type'] = df_original['dx'].map(lesion_type_dict.get)\n",
        "df_original['cell_type_idx'] = pd.Categorical(df_original['cell_type']).codes\n",
        "df_original.head()"
      ],
      "execution_count": 8,
      "outputs": [
        {
          "output_type": "execute_result",
          "data": {
            "text/html": [
              "<div>\n",
              "<style scoped>\n",
              "    .dataframe tbody tr th:only-of-type {\n",
              "        vertical-align: middle;\n",
              "    }\n",
              "\n",
              "    .dataframe tbody tr th {\n",
              "        vertical-align: top;\n",
              "    }\n",
              "\n",
              "    .dataframe thead th {\n",
              "        text-align: right;\n",
              "    }\n",
              "</style>\n",
              "<table border=\"1\" class=\"dataframe\">\n",
              "  <thead>\n",
              "    <tr style=\"text-align: right;\">\n",
              "      <th></th>\n",
              "      <th>lesion_id</th>\n",
              "      <th>image_id</th>\n",
              "      <th>dx</th>\n",
              "      <th>dx_type</th>\n",
              "      <th>age</th>\n",
              "      <th>sex</th>\n",
              "      <th>localization</th>\n",
              "      <th>path</th>\n",
              "      <th>cell_type</th>\n",
              "      <th>cell_type_idx</th>\n",
              "    </tr>\n",
              "  </thead>\n",
              "  <tbody>\n",
              "    <tr>\n",
              "      <th>0</th>\n",
              "      <td>HAM_0000118</td>\n",
              "      <td>ISIC_0027419</td>\n",
              "      <td>bkl</td>\n",
              "      <td>histo</td>\n",
              "      <td>80.0</td>\n",
              "      <td>male</td>\n",
              "      <td>scalp</td>\n",
              "      <td>/content/drive/MyDrive/input/HAM10000_images_p...</td>\n",
              "      <td>Benign keratosis-like lesions</td>\n",
              "      <td>2</td>\n",
              "    </tr>\n",
              "    <tr>\n",
              "      <th>1</th>\n",
              "      <td>HAM_0000118</td>\n",
              "      <td>ISIC_0025030</td>\n",
              "      <td>bkl</td>\n",
              "      <td>histo</td>\n",
              "      <td>80.0</td>\n",
              "      <td>male</td>\n",
              "      <td>scalp</td>\n",
              "      <td>/content/drive/MyDrive/input/HAM10000_images_p...</td>\n",
              "      <td>Benign keratosis-like lesions</td>\n",
              "      <td>2</td>\n",
              "    </tr>\n",
              "    <tr>\n",
              "      <th>2</th>\n",
              "      <td>HAM_0002730</td>\n",
              "      <td>ISIC_0026769</td>\n",
              "      <td>bkl</td>\n",
              "      <td>histo</td>\n",
              "      <td>80.0</td>\n",
              "      <td>male</td>\n",
              "      <td>scalp</td>\n",
              "      <td>/content/drive/MyDrive/input/HAM10000_images_p...</td>\n",
              "      <td>Benign keratosis-like lesions</td>\n",
              "      <td>2</td>\n",
              "    </tr>\n",
              "    <tr>\n",
              "      <th>3</th>\n",
              "      <td>HAM_0002730</td>\n",
              "      <td>ISIC_0025661</td>\n",
              "      <td>bkl</td>\n",
              "      <td>histo</td>\n",
              "      <td>80.0</td>\n",
              "      <td>male</td>\n",
              "      <td>scalp</td>\n",
              "      <td>/content/drive/MyDrive/input/HAM10000_images_p...</td>\n",
              "      <td>Benign keratosis-like lesions</td>\n",
              "      <td>2</td>\n",
              "    </tr>\n",
              "    <tr>\n",
              "      <th>4</th>\n",
              "      <td>HAM_0001466</td>\n",
              "      <td>ISIC_0031633</td>\n",
              "      <td>bkl</td>\n",
              "      <td>histo</td>\n",
              "      <td>75.0</td>\n",
              "      <td>male</td>\n",
              "      <td>ear</td>\n",
              "      <td>/content/drive/MyDrive/input/HAM10000_images_p...</td>\n",
              "      <td>Benign keratosis-like lesions</td>\n",
              "      <td>2</td>\n",
              "    </tr>\n",
              "  </tbody>\n",
              "</table>\n",
              "</div>"
            ],
            "text/plain": [
              "     lesion_id      image_id  ...                       cell_type cell_type_idx\n",
              "0  HAM_0000118  ISIC_0027419  ...  Benign keratosis-like lesions              2\n",
              "1  HAM_0000118  ISIC_0025030  ...  Benign keratosis-like lesions              2\n",
              "2  HAM_0002730  ISIC_0026769  ...  Benign keratosis-like lesions              2\n",
              "3  HAM_0002730  ISIC_0025661  ...  Benign keratosis-like lesions              2\n",
              "4  HAM_0001466  ISIC_0031633  ...  Benign keratosis-like lesions              2\n",
              "\n",
              "[5 rows x 10 columns]"
            ]
          },
          "metadata": {
            "tags": []
          },
          "execution_count": 8
        }
      ]
    },
    {
      "cell_type": "code",
      "metadata": {
        "id": "NXlI1GCKePD9",
        "colab": {
          "base_uri": "https://localhost:8080/",
          "height": 195
        },
        "outputId": "8437c2a9-c45c-40bf-8b60-651f73f5c406"
      },
      "source": [
        "# this will tell us how many images are associated with each lesion_id\n",
        "df_undup = df_original.groupby('lesion_id').count()\n",
        "# now we filter out lesion_id's that have only one image associated with it\n",
        "df_undup = df_undup[df_undup['image_id'] == 1]\n",
        "df_undup.reset_index(inplace=True)\n",
        "df_undup.head()"
      ],
      "execution_count": 9,
      "outputs": [
        {
          "output_type": "execute_result",
          "data": {
            "text/html": [
              "<div>\n",
              "<style scoped>\n",
              "    .dataframe tbody tr th:only-of-type {\n",
              "        vertical-align: middle;\n",
              "    }\n",
              "\n",
              "    .dataframe tbody tr th {\n",
              "        vertical-align: top;\n",
              "    }\n",
              "\n",
              "    .dataframe thead th {\n",
              "        text-align: right;\n",
              "    }\n",
              "</style>\n",
              "<table border=\"1\" class=\"dataframe\">\n",
              "  <thead>\n",
              "    <tr style=\"text-align: right;\">\n",
              "      <th></th>\n",
              "      <th>lesion_id</th>\n",
              "      <th>image_id</th>\n",
              "      <th>dx</th>\n",
              "      <th>dx_type</th>\n",
              "      <th>age</th>\n",
              "      <th>sex</th>\n",
              "      <th>localization</th>\n",
              "      <th>path</th>\n",
              "      <th>cell_type</th>\n",
              "      <th>cell_type_idx</th>\n",
              "    </tr>\n",
              "  </thead>\n",
              "  <tbody>\n",
              "    <tr>\n",
              "      <th>0</th>\n",
              "      <td>HAM_0000001</td>\n",
              "      <td>1</td>\n",
              "      <td>1</td>\n",
              "      <td>1</td>\n",
              "      <td>1</td>\n",
              "      <td>1</td>\n",
              "      <td>1</td>\n",
              "      <td>1</td>\n",
              "      <td>1</td>\n",
              "      <td>1</td>\n",
              "    </tr>\n",
              "    <tr>\n",
              "      <th>1</th>\n",
              "      <td>HAM_0000003</td>\n",
              "      <td>1</td>\n",
              "      <td>1</td>\n",
              "      <td>1</td>\n",
              "      <td>1</td>\n",
              "      <td>1</td>\n",
              "      <td>1</td>\n",
              "      <td>1</td>\n",
              "      <td>1</td>\n",
              "      <td>1</td>\n",
              "    </tr>\n",
              "    <tr>\n",
              "      <th>2</th>\n",
              "      <td>HAM_0000004</td>\n",
              "      <td>1</td>\n",
              "      <td>1</td>\n",
              "      <td>1</td>\n",
              "      <td>1</td>\n",
              "      <td>1</td>\n",
              "      <td>1</td>\n",
              "      <td>1</td>\n",
              "      <td>1</td>\n",
              "      <td>1</td>\n",
              "    </tr>\n",
              "    <tr>\n",
              "      <th>3</th>\n",
              "      <td>HAM_0000007</td>\n",
              "      <td>1</td>\n",
              "      <td>1</td>\n",
              "      <td>1</td>\n",
              "      <td>1</td>\n",
              "      <td>1</td>\n",
              "      <td>1</td>\n",
              "      <td>1</td>\n",
              "      <td>1</td>\n",
              "      <td>1</td>\n",
              "    </tr>\n",
              "    <tr>\n",
              "      <th>4</th>\n",
              "      <td>HAM_0000008</td>\n",
              "      <td>1</td>\n",
              "      <td>1</td>\n",
              "      <td>1</td>\n",
              "      <td>1</td>\n",
              "      <td>1</td>\n",
              "      <td>1</td>\n",
              "      <td>1</td>\n",
              "      <td>1</td>\n",
              "      <td>1</td>\n",
              "    </tr>\n",
              "  </tbody>\n",
              "</table>\n",
              "</div>"
            ],
            "text/plain": [
              "     lesion_id  image_id  dx  ...  path  cell_type  cell_type_idx\n",
              "0  HAM_0000001         1   1  ...     1          1              1\n",
              "1  HAM_0000003         1   1  ...     1          1              1\n",
              "2  HAM_0000004         1   1  ...     1          1              1\n",
              "3  HAM_0000007         1   1  ...     1          1              1\n",
              "4  HAM_0000008         1   1  ...     1          1              1\n",
              "\n",
              "[5 rows x 10 columns]"
            ]
          },
          "metadata": {
            "tags": []
          },
          "execution_count": 9
        }
      ]
    },
    {
      "cell_type": "code",
      "metadata": {
        "id": "F6VdpWrieQ31",
        "colab": {
          "base_uri": "https://localhost:8080/",
          "height": 383
        },
        "outputId": "8de06e77-5f7f-490f-e1c9-35e54445cbfd"
      },
      "source": [
        "# here we identify lesion_id's that have duplicate images and those that have only one image.\n",
        "def get_duplicates(x):\n",
        "    unique_list = list(df_undup['lesion_id'])\n",
        "    if x in unique_list:\n",
        "        return 'unduplicated'\n",
        "    else:\n",
        "        return 'duplicated'\n",
        "\n",
        "# create a new colum that is a copy of the lesion_id column\n",
        "df_original['duplicates'] = df_original['lesion_id']\n",
        "# apply the function to this new column\n",
        "df_original['duplicates'] = df_original['duplicates'].apply(get_duplicates)\n",
        "df_original.head()"
      ],
      "execution_count": 10,
      "outputs": [
        {
          "output_type": "execute_result",
          "data": {
            "text/html": [
              "<div>\n",
              "<style scoped>\n",
              "    .dataframe tbody tr th:only-of-type {\n",
              "        vertical-align: middle;\n",
              "    }\n",
              "\n",
              "    .dataframe tbody tr th {\n",
              "        vertical-align: top;\n",
              "    }\n",
              "\n",
              "    .dataframe thead th {\n",
              "        text-align: right;\n",
              "    }\n",
              "</style>\n",
              "<table border=\"1\" class=\"dataframe\">\n",
              "  <thead>\n",
              "    <tr style=\"text-align: right;\">\n",
              "      <th></th>\n",
              "      <th>lesion_id</th>\n",
              "      <th>image_id</th>\n",
              "      <th>dx</th>\n",
              "      <th>dx_type</th>\n",
              "      <th>age</th>\n",
              "      <th>sex</th>\n",
              "      <th>localization</th>\n",
              "      <th>path</th>\n",
              "      <th>cell_type</th>\n",
              "      <th>cell_type_idx</th>\n",
              "      <th>duplicates</th>\n",
              "    </tr>\n",
              "  </thead>\n",
              "  <tbody>\n",
              "    <tr>\n",
              "      <th>0</th>\n",
              "      <td>HAM_0000118</td>\n",
              "      <td>ISIC_0027419</td>\n",
              "      <td>bkl</td>\n",
              "      <td>histo</td>\n",
              "      <td>80.0</td>\n",
              "      <td>male</td>\n",
              "      <td>scalp</td>\n",
              "      <td>/content/drive/MyDrive/input/HAM10000_images_p...</td>\n",
              "      <td>Benign keratosis-like lesions</td>\n",
              "      <td>2</td>\n",
              "      <td>duplicated</td>\n",
              "    </tr>\n",
              "    <tr>\n",
              "      <th>1</th>\n",
              "      <td>HAM_0000118</td>\n",
              "      <td>ISIC_0025030</td>\n",
              "      <td>bkl</td>\n",
              "      <td>histo</td>\n",
              "      <td>80.0</td>\n",
              "      <td>male</td>\n",
              "      <td>scalp</td>\n",
              "      <td>/content/drive/MyDrive/input/HAM10000_images_p...</td>\n",
              "      <td>Benign keratosis-like lesions</td>\n",
              "      <td>2</td>\n",
              "      <td>duplicated</td>\n",
              "    </tr>\n",
              "    <tr>\n",
              "      <th>2</th>\n",
              "      <td>HAM_0002730</td>\n",
              "      <td>ISIC_0026769</td>\n",
              "      <td>bkl</td>\n",
              "      <td>histo</td>\n",
              "      <td>80.0</td>\n",
              "      <td>male</td>\n",
              "      <td>scalp</td>\n",
              "      <td>/content/drive/MyDrive/input/HAM10000_images_p...</td>\n",
              "      <td>Benign keratosis-like lesions</td>\n",
              "      <td>2</td>\n",
              "      <td>duplicated</td>\n",
              "    </tr>\n",
              "    <tr>\n",
              "      <th>3</th>\n",
              "      <td>HAM_0002730</td>\n",
              "      <td>ISIC_0025661</td>\n",
              "      <td>bkl</td>\n",
              "      <td>histo</td>\n",
              "      <td>80.0</td>\n",
              "      <td>male</td>\n",
              "      <td>scalp</td>\n",
              "      <td>/content/drive/MyDrive/input/HAM10000_images_p...</td>\n",
              "      <td>Benign keratosis-like lesions</td>\n",
              "      <td>2</td>\n",
              "      <td>duplicated</td>\n",
              "    </tr>\n",
              "    <tr>\n",
              "      <th>4</th>\n",
              "      <td>HAM_0001466</td>\n",
              "      <td>ISIC_0031633</td>\n",
              "      <td>bkl</td>\n",
              "      <td>histo</td>\n",
              "      <td>75.0</td>\n",
              "      <td>male</td>\n",
              "      <td>ear</td>\n",
              "      <td>/content/drive/MyDrive/input/HAM10000_images_p...</td>\n",
              "      <td>Benign keratosis-like lesions</td>\n",
              "      <td>2</td>\n",
              "      <td>duplicated</td>\n",
              "    </tr>\n",
              "  </tbody>\n",
              "</table>\n",
              "</div>"
            ],
            "text/plain": [
              "     lesion_id      image_id  ... cell_type_idx  duplicates\n",
              "0  HAM_0000118  ISIC_0027419  ...             2  duplicated\n",
              "1  HAM_0000118  ISIC_0025030  ...             2  duplicated\n",
              "2  HAM_0002730  ISIC_0026769  ...             2  duplicated\n",
              "3  HAM_0002730  ISIC_0025661  ...             2  duplicated\n",
              "4  HAM_0001466  ISIC_0031633  ...             2  duplicated\n",
              "\n",
              "[5 rows x 11 columns]"
            ]
          },
          "metadata": {
            "tags": []
          },
          "execution_count": 10
        }
      ]
    },
    {
      "cell_type": "code",
      "metadata": {
        "id": "dZYpftUqeTVm",
        "colab": {
          "base_uri": "https://localhost:8080/"
        },
        "outputId": "0c6ebdc4-e95b-42ef-b5dd-7660f9115f44"
      },
      "source": [
        "df_original['duplicates'].value_counts()"
      ],
      "execution_count": 11,
      "outputs": [
        {
          "output_type": "execute_result",
          "data": {
            "text/plain": [
              "unduplicated    5514\n",
              "duplicated      4501\n",
              "Name: duplicates, dtype: int64"
            ]
          },
          "metadata": {
            "tags": []
          },
          "execution_count": 11
        }
      ]
    },
    {
      "cell_type": "code",
      "metadata": {
        "id": "6H5V4KBVeVrX",
        "colab": {
          "base_uri": "https://localhost:8080/"
        },
        "outputId": "d21db203-6501-475d-bb51-e273c4d6ae83"
      },
      "source": [
        "# now we filter out images that don't have duplicates\n",
        "df_undup = df_original[df_original['duplicates'] == 'unduplicated']\n",
        "df_undup.shape"
      ],
      "execution_count": 12,
      "outputs": [
        {
          "output_type": "execute_result",
          "data": {
            "text/plain": [
              "(5514, 11)"
            ]
          },
          "metadata": {
            "tags": []
          },
          "execution_count": 12
        }
      ]
    },
    {
      "cell_type": "code",
      "metadata": {
        "id": "nHBC7w_heX5F",
        "colab": {
          "base_uri": "https://localhost:8080/"
        },
        "outputId": "8c6839ee-9fda-4dac-c8fd-274bc137d244"
      },
      "source": [
        "# now we create a val set using df because we are sure that none of these images have augmented duplicates in the train set\n",
        "y = df_undup['cell_type_idx']\n",
        "_, df_val = train_test_split(df_undup, test_size=0.2, random_state=101, stratify=y)\n",
        "df_val.shape"
      ],
      "execution_count": 13,
      "outputs": [
        {
          "output_type": "execute_result",
          "data": {
            "text/plain": [
              "(1103, 11)"
            ]
          },
          "metadata": {
            "tags": []
          },
          "execution_count": 13
        }
      ]
    },
    {
      "cell_type": "code",
      "metadata": {
        "id": "8V4kl9kleZq1",
        "colab": {
          "base_uri": "https://localhost:8080/"
        },
        "outputId": "f5dfea24-ae0c-4cd8-b35c-ca5aba2374a8"
      },
      "source": [
        "df_val['cell_type_idx'].value_counts()"
      ],
      "execution_count": 14,
      "outputs": [
        {
          "output_type": "execute_result",
          "data": {
            "text/plain": [
              "4    883\n",
              "2     88\n",
              "6     46\n",
              "1     35\n",
              "0     30\n",
              "5     13\n",
              "3      8\n",
              "Name: cell_type_idx, dtype: int64"
            ]
          },
          "metadata": {
            "tags": []
          },
          "execution_count": 14
        }
      ]
    },
    {
      "cell_type": "code",
      "metadata": {
        "id": "9SerSS8megQ1",
        "colab": {
          "base_uri": "https://localhost:8080/"
        },
        "outputId": "ec3ff338-78a5-4cc4-cf7e-e84a78809c75"
      },
      "source": [
        "# This set will be df_original excluding all rows that are in the val set\n",
        "# This function identifies if an image is part of the train or val set.\n",
        "def get_val_rows(x):\n",
        "    # create a list of all the lesion_id's in the val set\n",
        "    val_list = list(df_val['image_id'])\n",
        "    if str(x) in val_list:\n",
        "        return 'val'\n",
        "    else:\n",
        "        return 'train'\n",
        "\n",
        "# identify train and val rows\n",
        "# create a new colum that is a copy of the image_id column\n",
        "df_original['train_or_val'] = df_original['image_id']\n",
        "# apply the function to this new column\n",
        "df_original['train_or_val'] = df_original['train_or_val'].apply(get_val_rows)\n",
        "# filter out train rows\n",
        "df_train = df_original[df_original['train_or_val'] == 'train']\n",
        "print(len(df_train))\n",
        "print(len(df_val))"
      ],
      "execution_count": 15,
      "outputs": [
        {
          "output_type": "stream",
          "text": [
            "8912\n",
            "1103\n"
          ],
          "name": "stdout"
        }
      ]
    },
    {
      "cell_type": "code",
      "metadata": {
        "id": "SzvikaQueift",
        "colab": {
          "base_uri": "https://localhost:8080/"
        },
        "outputId": "d5c3deb8-be3e-4823-dafc-ac5af8dde9d9"
      },
      "source": [
        "df_train['cell_type_idx'].value_counts()"
      ],
      "execution_count": 16,
      "outputs": [
        {
          "output_type": "execute_result",
          "data": {
            "text/plain": [
              "4    5822\n",
              "6    1067\n",
              "2    1011\n",
              "1     479\n",
              "0     297\n",
              "5     129\n",
              "3     107\n",
              "Name: cell_type_idx, dtype: int64"
            ]
          },
          "metadata": {
            "tags": []
          },
          "execution_count": 16
        }
      ]
    },
    {
      "cell_type": "code",
      "metadata": {
        "id": "S9pAqOLHekZV",
        "colab": {
          "base_uri": "https://localhost:8080/"
        },
        "outputId": "6cf146f5-fa3c-4f5f-a6db-e5f5372f4146"
      },
      "source": [
        "df_val['cell_type'].value_counts()"
      ],
      "execution_count": 17,
      "outputs": [
        {
          "output_type": "execute_result",
          "data": {
            "text/plain": [
              "Melanocytic nevi                  883\n",
              "Benign keratosis-like lesions      88\n",
              "dermatofibroma                     46\n",
              "Basal cell carcinoma               35\n",
              "Actinic keratoses                  30\n",
              "Vascular lesions                   13\n",
              "Dermatofibroma                      8\n",
              "Name: cell_type, dtype: int64"
            ]
          },
          "metadata": {
            "tags": []
          },
          "execution_count": 17
        }
      ]
    },
    {
      "cell_type": "code",
      "metadata": {
        "id": "to63iOmbel-u",
        "colab": {
          "base_uri": "https://localhost:8080/"
        },
        "outputId": "b0cc2fd9-3b68-4e5c-f6cb-712f35848078"
      },
      "source": [
        "# Copy fewer class to balance the number of 7 classes\n",
        "data_aug_rate = [15,10,5,50,0,40,5]\n",
        "for i in range(7):\n",
        "    if data_aug_rate[i]:\n",
        "        df_train=df_train.append([df_train.loc[df_train['cell_type_idx'] == i,:]]*(data_aug_rate[i]-1), ignore_index=True)\n",
        "df_train['cell_type'].value_counts()"
      ],
      "execution_count": 18,
      "outputs": [
        {
          "output_type": "execute_result",
          "data": {
            "text/plain": [
              "Melanocytic nevi                  5822\n",
              "Dermatofibroma                    5350\n",
              "dermatofibroma                    5335\n",
              "Vascular lesions                  5160\n",
              "Benign keratosis-like lesions     5055\n",
              "Basal cell carcinoma              4790\n",
              "Actinic keratoses                 4455\n",
              "Name: cell_type, dtype: int64"
            ]
          },
          "metadata": {
            "tags": []
          },
          "execution_count": 18
        }
      ]
    },
    {
      "cell_type": "code",
      "metadata": {
        "id": "-gXIGKqden9f"
      },
      "source": [
        "# # We can split the test set again in a validation set and a true test set:\n",
        "# df_val, df_test = train_test_split(df_val, test_size=0.5)\n",
        "df_train = df_train.reset_index()\n",
        "df_val = df_val.reset_index()\n",
        "# df_test = df_test.reset_index()"
      ],
      "execution_count": 19,
      "outputs": []
    },
    {
      "cell_type": "code",
      "metadata": {
        "id": "YtAPW2Ovi9rf"
      },
      "source": [
        "def save_checkpoint(state, filename = \"checkpoints.pth.tar\"):\n",
        "  print(\"======> Saving Checkpoint.\")\n",
        "  torch.save(state, filename)\n",
        "  print(\"******************************************************\")"
      ],
      "execution_count": 20,
      "outputs": []
    },
    {
      "cell_type": "code",
      "metadata": {
        "id": "NtTUVJK-jxkm"
      },
      "source": [
        "def load_checkpoint(checkpoint):\n",
        "  print(\"=====> Loading Checkpoint.\")\n",
        "  model.load_state_dict(checkpoint['state_dict'])\n",
        "  optimizer.load_state_dict(checkpoint['optimizer'])\n",
        "  epoch.load_state_dict(checkpoint['epoch'])\n",
        "  loss_val.load_state_dict(checkpoint['loss_val'])\n",
        "  acc_val.load_state_dict(checkpoint['acc_val'])\n",
        "  loss_train.load_state_dict(checkpoint['loss_train'])\n",
        "  acc_train.load_state_dict(checkpoint['acc_train'])\n",
        "  best_val_acc.load_state_dict(checkpoint['best_val_acc'])\n",
        "  "
      ],
      "execution_count": 21,
      "outputs": []
    },
    {
      "cell_type": "markdown",
      "metadata": {
        "id": "YAzuFnwDImTX"
      },
      "source": [
        "**MODEL BUILDING**"
      ]
    },
    {
      "cell_type": "code",
      "metadata": {
        "id": "yuI1H-DoeqA9"
      },
      "source": [
        "# feature_extract is a boolean that defines if we are finetuning or feature extracting. \n",
        "# If feature_extract = False, the model is finetuned and all model parameters are updated. \n",
        "# If feature_extract = True, only the last layer parameters are updated, the others remain fixed.\n",
        "def set_parameter_requires_grad(model, feature_extracting):\n",
        "    if feature_extracting:\n",
        "        for param in model.parameters():\n",
        "            param.requires_grad = False"
      ],
      "execution_count": 22,
      "outputs": []
    },
    {
      "cell_type": "code",
      "metadata": {
        "id": "XgyANTmnerwV"
      },
      "source": [
        "def initialize_model(model_name, num_classes, feature_extract, use_pretrained=True):\n",
        "    # Initialize these variables which will be set in this if statement. Each of these\n",
        "    #   variables is model specific.\n",
        "    model_ft = None\n",
        "    input_size = 0\n",
        "\n",
        "    if model_name == \"resnet\":\n",
        "        \"\"\" Resnet18, resnet34, resnet50, resnet101\n",
        "        \"\"\"\n",
        "        model_ft = models.resnet18(pretrained=use_pretrained)\n",
        "        set_parameter_requires_grad(model_ft, feature_extract)\n",
        "        num_ftrs = model_ft.fc.in_features\n",
        "        model_ft.fc = nn.Linear(num_ftrs, num_classes)\n",
        "        input_size = 224\n",
        "\n",
        "\n",
        "    elif model_name == \"vgg\":\n",
        "        \"\"\" VGG11_bn\n",
        "        \"\"\"\n",
        "        model_ft = models.vgg11_bn(pretrained=use_pretrained)\n",
        "        set_parameter_requires_grad(model_ft, feature_extract)\n",
        "        num_ftrs = model_ft.classifier[6].in_features\n",
        "        model_ft.classifier[6] = nn.Linear(num_ftrs,num_classes)\n",
        "        input_size = 224\n",
        "\n",
        "\n",
        "    elif model_name == \"densenet\":\n",
        "        \"\"\" Densenet121\n",
        "        \"\"\"\n",
        "        model_ft = models.densenet121(pretrained=use_pretrained)\n",
        "        set_parameter_requires_grad(model_ft, feature_extract)\n",
        "        num_ftrs = model_ft.classifier.in_features\n",
        "        model_ft.classifier = nn.Linear(num_ftrs, num_classes)\n",
        "        input_size = 224\n",
        "\n",
        "    elif model_name == \"inception\":\n",
        "        \"\"\" Inception v3\n",
        "        \"\"\"\n",
        "        model_ft = models.inception_v3(pretrained=use_pretrained)\n",
        "        set_parameter_requires_grad(model_ft, feature_extract)\n",
        "        # Handle the auxilary net\n",
        "        num_ftrs = model_ft.AuxLogits.fc.in_features\n",
        "        model_ft.AuxLogits.fc = nn.Linear(num_ftrs, num_classes)\n",
        "        # Handle the primary net\n",
        "        num_ftrs = model_ft.fc.in_features\n",
        "        model_ft.fc = nn.Linear(num_ftrs,num_classes)\n",
        "        input_size = 299\n",
        "\n",
        "    else:\n",
        "        print(\"Invalid model name, exiting...\")\n",
        "        exit()\n",
        "    return model_ft, input_size"
      ],
      "execution_count": 23,
      "outputs": []
    },
    {
      "cell_type": "code",
      "metadata": {
        "id": "X-AUAsPzeucF",
        "colab": {
          "base_uri": "https://localhost:8080/",
          "height": 82,
          "referenced_widgets": [
            "0d76f22c22ac46c682bcb87f1d572ea3",
            "7fe2476749604fb6b861f91f60a8e797",
            "fcf10cc9b39940b999bc2858f9d5276a",
            "6b1f65c47f744d2da9897b1ac152858d",
            "16e41c07f9f7458589df23855f3efdbd",
            "37237a7ce9f748e4a3b0607d678c5055",
            "f1afa5c7df694f5fb45f14e115fa5bb1",
            "d23904201a9c4d5ebf063f50778e52ec"
          ]
        },
        "outputId": "6cd05757-e1ff-4519-cd76-1872cdb303b8"
      },
      "source": [
        "# resnet,vgg,densenet,inception\n",
        "model_name = 'resnet'\n",
        "num_classes = 7\n",
        "feature_extract = False\n",
        "# Initialize the model for this run\n",
        "model_ft, input_size = initialize_model(model_name, num_classes, feature_extract, use_pretrained=True)\n",
        "# Define the device:\n",
        "device = torch.device('cuda:0')\n",
        "# Put the model on the device:\n",
        "model = model_ft.to(device)"
      ],
      "execution_count": 24,
      "outputs": [
        {
          "output_type": "stream",
          "text": [
            "Downloading: \"https://download.pytorch.org/models/resnet18-5c106cde.pth\" to /root/.cache/torch/hub/checkpoints/resnet18-5c106cde.pth\n"
          ],
          "name": "stderr"
        },
        {
          "output_type": "display_data",
          "data": {
            "application/vnd.jupyter.widget-view+json": {
              "model_id": "0d76f22c22ac46c682bcb87f1d572ea3",
              "version_minor": 0,
              "version_major": 2
            },
            "text/plain": [
              "HBox(children=(FloatProgress(value=0.0, max=46827520.0), HTML(value='')))"
            ]
          },
          "metadata": {
            "tags": []
          }
        },
        {
          "output_type": "stream",
          "text": [
            "\n"
          ],
          "name": "stdout"
        }
      ]
    },
    {
      "cell_type": "code",
      "metadata": {
        "id": "IA2v6p-9ewIQ"
      },
      "source": [
        "# norm_mean = (0.49139968, 0.48215827, 0.44653124)\n",
        "# norm_std = (0.24703233, 0.24348505, 0.26158768)\n",
        "# define the transformation of the train images.\n",
        "train_transform = transforms.Compose([transforms.Resize((input_size,input_size)),transforms.RandomHorizontalFlip(),\n",
        "                                      transforms.RandomVerticalFlip(),transforms.RandomRotation(20),\n",
        "                                      transforms.ColorJitter(brightness=0.1, contrast=0.1, hue=0.1),\n",
        "                                        transforms.ToTensor(), transforms.Normalize(norm_mean, norm_std)])\n",
        "# define the transformation of the val images.\n",
        "val_transform = transforms.Compose([transforms.Resize((input_size,input_size)), transforms.ToTensor(),\n",
        "                                    transforms.Normalize(norm_mean, norm_std)])"
      ],
      "execution_count": 25,
      "outputs": []
    },
    {
      "cell_type": "code",
      "metadata": {
        "id": "vO6hKxMEeyfV"
      },
      "source": [
        "# Define a pytorch dataloader for this dataset\n",
        "class HAM10000(Dataset):\n",
        "    def __init__(self, df, transform=None):\n",
        "        self.df = df\n",
        "        self.transform = transform\n",
        "\n",
        "    def __len__(self):\n",
        "        return len(self.df)\n",
        "\n",
        "    def __getitem__(self, index):\n",
        "        # Load data and get label\n",
        "        X = Image.open(self.df['path'][index])\n",
        "        y = torch.tensor(int(self.df['cell_type_idx'][index]))\n",
        "\n",
        "        if self.transform:\n",
        "            X = self.transform(X)\n",
        "\n",
        "        return X, y"
      ],
      "execution_count": 26,
      "outputs": []
    },
    {
      "cell_type": "code",
      "metadata": {
        "id": "S5Nhwnuje0z_"
      },
      "source": [
        "# Define the training set using the table train_df and using our defined transitions (train_transform)\n",
        "training_set = HAM10000(df_train, transform=train_transform)\n",
        "train_loader = DataLoader(training_set, batch_size=32, shuffle=True, num_workers=4)\n",
        "# Same for the validation set:\n",
        "validation_set = HAM10000(df_val, transform=train_transform)\n",
        "val_loader = DataLoader(validation_set, batch_size=32, shuffle=False, num_workers=4)"
      ],
      "execution_count": 27,
      "outputs": []
    },
    {
      "cell_type": "code",
      "metadata": {
        "id": "mLTbU6XQe2oW"
      },
      "source": [
        "# we use Adam optimizer, use cross entropy loss as our loss function\n",
        "optimizer = optim.Adam(model.parameters(), lr=1e-5)\n",
        "criterion = nn.CrossEntropyLoss().to(device)"
      ],
      "execution_count": 28,
      "outputs": []
    },
    {
      "cell_type": "markdown",
      "metadata": {
        "id": "s7JpuA0nIsmd"
      },
      "source": [
        "**MODEL TRAINING**"
      ]
    },
    {
      "cell_type": "code",
      "metadata": {
        "id": "pz0DUP8se5HV"
      },
      "source": [
        "# this function is used during training process, to calculation the loss and accuracy\n",
        "class AverageMeter(object):\n",
        "    def __init__(self):\n",
        "        self.reset()\n",
        "\n",
        "    def reset(self):\n",
        "        self.val = 0\n",
        "        self.avg = 0\n",
        "        self.sum = 0\n",
        "        self.count = 0\n",
        "\n",
        "    def update(self, val, n=1):\n",
        "        self.val = val\n",
        "        self.sum += val * n\n",
        "        self.count += n\n",
        "        self.avg = self.sum / self.count"
      ],
      "execution_count": 29,
      "outputs": []
    },
    {
      "cell_type": "code",
      "metadata": {
        "id": "zMRYblHRe7gX"
      },
      "source": [
        "total_loss_train, total_acc_train = [],[]\n",
        "def train(train_loader, model, criterion, optimizer, epoch):\n",
        "    model.train()\n",
        "    train_loss = AverageMeter()\n",
        "    train_acc = AverageMeter()\n",
        "    curr_iter = (epoch - 1) * len(train_loader)\n",
        "    for i, data in enumerate(train_loader):\n",
        "        images, labels = data\n",
        "        N = images.size(0)\n",
        "        # print('image shape:',images.size(0), 'label shape',labels.size(0))\n",
        "        images = Variable(images).to(device)\n",
        "        labels = Variable(labels).to(device)\n",
        "\n",
        "        optimizer.zero_grad()\n",
        "        outputs = model(images)\n",
        "\n",
        "        loss = criterion(outputs, labels)\n",
        "        loss.backward()\n",
        "        optimizer.step()\n",
        "        prediction = outputs.max(1, keepdim=True)[1]\n",
        "        train_acc.update(prediction.eq(labels.view_as(prediction)).sum().item()/N)\n",
        "        train_loss.update(loss.item())\n",
        "        curr_iter += 1\n",
        "        if (i + 1) % 100 == 0:\n",
        "            print('[epoch %d], [iter %d / %d], [train loss %.5f], [train acc %.5f]' % (\n",
        "                epoch, i + 1, len(train_loader), train_loss.avg, train_acc.avg))\n",
        "            total_loss_train.append(train_loss.avg)\n",
        "            total_acc_train.append(train_acc.avg)\n",
        "    return train_loss.avg, train_acc.avg"
      ],
      "execution_count": 30,
      "outputs": []
    },
    {
      "cell_type": "code",
      "metadata": {
        "id": "l8ZgYEQOe9_R"
      },
      "source": [
        "def validate(val_loader, model, criterion, optimizer, epoch):\n",
        "    model.eval()\n",
        "    val_loss = AverageMeter()\n",
        "    val_acc = AverageMeter()\n",
        "    with torch.no_grad():\n",
        "        for i, data in enumerate(val_loader):\n",
        "            images, labels = data\n",
        "            N = images.size(0)\n",
        "            images = Variable(images).to(device)\n",
        "            labels = Variable(labels).to(device)\n",
        "\n",
        "            outputs = model(images)\n",
        "            prediction = outputs.max(1, keepdim=True)[1]\n",
        "\n",
        "            val_acc.update(prediction.eq(labels.view_as(prediction)).sum().item()/N)\n",
        "\n",
        "            val_loss.update(criterion(outputs, labels).item())\n",
        "\n",
        "    print('------------------------------------------------------------')\n",
        "    print('[epoch %d], [val loss %.5f], [val acc %.5f]' % (epoch, val_loss.avg, val_acc.avg))\n",
        "    print('------------------------------------------------------------')\n",
        "    return val_loss.avg, val_acc.avg"
      ],
      "execution_count": 31,
      "outputs": []
    },
    {
      "cell_type": "code",
      "metadata": {
        "id": "WbZ9NYfpRD0a"
      },
      "source": [
        ""
      ],
      "execution_count": 31,
      "outputs": []
    },
    {
      "cell_type": "code",
      "metadata": {
        "colab": {
          "base_uri": "https://localhost:8080/"
        },
        "id": "ahs1o0GUfAp1",
        "outputId": "0a04e46c-c8dc-47ae-af2f-2cffc6e8a0d0"
      },
      "source": [
        "# if os.path.exists(\"Trained_Model.pickle\"):\n",
        "#   print(\"Loading Trained Model\")\n",
        "#   model = pickle.load(open(\"Trained_Model.pickle\", \"rb\"))\n",
        "# else:\n",
        "#   print(\"Training New Model.\")\n",
        "#   print(\"Training begins.\")\n",
        "#   print(\"********************************************************\")\n",
        "epoch_num = 25\n",
        "load_model = True\n",
        "best_val_acc = 0\n",
        "total_loss_val, total_acc_val = [],[]\n",
        "\n",
        "# if load_model:\n",
        "#   load_checkpoint(torch.load(\"checkpoints.pth.tar\"))\n",
        "\n",
        "for epoch in range(1, epoch_num+1):\n",
        "\n",
        "  # # checkpoint = {'state_dict': model.state_dict(), 'optimizer': optimizer.state_dict(), 'epoch': epoch.state_dict(), 'loss_val': loss_val.state_dict(), 'acc_val':acc_val.state_dict(), 'loss_train':loss_train.state_dict(),\n",
        "  # #               'acc_train': acc_train.state_dict(), 'best_val_acc':best_val_acc.state_dict()}\n",
        "  # checkpoint = {'state_dict': model.state_dict(), 'optimizer': optimizer.state_dict(), 'epoch': epoch.state_dict()}\n",
        "  # save_checkpoint(checkpoint)\n",
        "\n",
        "  loss_train, acc_train = train(train_loader, model, criterion, optimizer, epoch)\n",
        "  loss_val, acc_val = validate(val_loader, model, criterion, optimizer, epoch)\n",
        "  total_loss_val.append(loss_val)\n",
        "  total_acc_val.append(acc_val)\n",
        "  if acc_val > best_val_acc:\n",
        "      best_val_acc = acc_val\n",
        "      print('*****************************************************')\n",
        "      print('best record: [epoch %d], [val loss %.5f], [val acc %.5f]' % (epoch, loss_val, acc_val))\n",
        "      print('*****************************************************')"
      ],
      "execution_count": 32,
      "outputs": [
        {
          "output_type": "stream",
          "text": [
            "[epoch 1], [iter 100 / 1124], [train loss 1.79645], [train acc 0.31219]\n",
            "[epoch 1], [iter 200 / 1124], [train loss 1.59718], [train acc 0.39969]\n",
            "[epoch 1], [iter 300 / 1124], [train loss 1.43882], [train acc 0.46958]\n",
            "[epoch 1], [iter 400 / 1124], [train loss 1.32971], [train acc 0.51242]\n",
            "[epoch 1], [iter 500 / 1124], [train loss 1.24810], [train acc 0.54156]\n",
            "[epoch 1], [iter 600 / 1124], [train loss 1.17714], [train acc 0.56891]\n",
            "[epoch 1], [iter 700 / 1124], [train loss 1.12544], [train acc 0.58871]\n",
            "[epoch 1], [iter 800 / 1124], [train loss 1.08108], [train acc 0.60457]\n",
            "[epoch 1], [iter 900 / 1124], [train loss 1.03997], [train acc 0.61993]\n",
            "[epoch 1], [iter 1000 / 1124], [train loss 1.00554], [train acc 0.63341]\n",
            "[epoch 1], [iter 1100 / 1124], [train loss 0.97534], [train acc 0.64432]\n",
            "------------------------------------------------------------\n",
            "[epoch 1], [val loss 0.44272], [val acc 0.85333]\n",
            "------------------------------------------------------------\n",
            "*****************************************************\n",
            "best record: [epoch 1], [val loss 0.44272], [val acc 0.85333]\n",
            "*****************************************************\n",
            "[epoch 2], [iter 100 / 1124], [train loss 0.61943], [train acc 0.77875]\n",
            "[epoch 2], [iter 200 / 1124], [train loss 0.61275], [train acc 0.77891]\n",
            "[epoch 2], [iter 300 / 1124], [train loss 0.60278], [train acc 0.78427]\n",
            "[epoch 2], [iter 400 / 1124], [train loss 0.59506], [train acc 0.78594]\n",
            "[epoch 2], [iter 500 / 1124], [train loss 0.58886], [train acc 0.78806]\n",
            "[epoch 2], [iter 600 / 1124], [train loss 0.57716], [train acc 0.79255]\n",
            "[epoch 2], [iter 700 / 1124], [train loss 0.56776], [train acc 0.79504]\n",
            "[epoch 2], [iter 800 / 1124], [train loss 0.55994], [train acc 0.79785]\n",
            "[epoch 2], [iter 900 / 1124], [train loss 0.55357], [train acc 0.80045]\n",
            "[epoch 2], [iter 1000 / 1124], [train loss 0.54828], [train acc 0.80250]\n",
            "[epoch 2], [iter 1100 / 1124], [train loss 0.54187], [train acc 0.80455]\n",
            "------------------------------------------------------------\n",
            "[epoch 2], [val loss 0.36503], [val acc 0.86851]\n",
            "------------------------------------------------------------\n",
            "*****************************************************\n",
            "best record: [epoch 2], [val loss 0.36503], [val acc 0.86851]\n",
            "*****************************************************\n",
            "[epoch 3], [iter 100 / 1124], [train loss 0.45244], [train acc 0.83156]\n",
            "[epoch 3], [iter 200 / 1124], [train loss 0.44135], [train acc 0.84125]\n",
            "[epoch 3], [iter 300 / 1124], [train loss 0.43796], [train acc 0.84292]\n",
            "[epoch 3], [iter 400 / 1124], [train loss 0.43733], [train acc 0.84188]\n",
            "[epoch 3], [iter 500 / 1124], [train loss 0.43250], [train acc 0.84437]\n",
            "[epoch 3], [iter 600 / 1124], [train loss 0.42804], [train acc 0.84578]\n",
            "[epoch 3], [iter 700 / 1124], [train loss 0.42349], [train acc 0.84781]\n",
            "[epoch 3], [iter 800 / 1124], [train loss 0.42042], [train acc 0.84797]\n",
            "[epoch 3], [iter 900 / 1124], [train loss 0.41612], [train acc 0.84990]\n",
            "[epoch 3], [iter 1000 / 1124], [train loss 0.41492], [train acc 0.85009]\n",
            "[epoch 3], [iter 1100 / 1124], [train loss 0.41230], [train acc 0.85142]\n",
            "------------------------------------------------------------\n",
            "[epoch 3], [val loss 0.32463], [val acc 0.89631]\n",
            "------------------------------------------------------------\n",
            "*****************************************************\n",
            "best record: [epoch 3], [val loss 0.32463], [val acc 0.89631]\n",
            "*****************************************************\n",
            "[epoch 4], [iter 100 / 1124], [train loss 0.39352], [train acc 0.85406]\n",
            "[epoch 4], [iter 200 / 1124], [train loss 0.37620], [train acc 0.86313]\n",
            "[epoch 4], [iter 300 / 1124], [train loss 0.36563], [train acc 0.86823]\n",
            "[epoch 4], [iter 400 / 1124], [train loss 0.35700], [train acc 0.87016]\n",
            "[epoch 4], [iter 500 / 1124], [train loss 0.35691], [train acc 0.87113]\n",
            "[epoch 4], [iter 600 / 1124], [train loss 0.35724], [train acc 0.87057]\n",
            "[epoch 4], [iter 700 / 1124], [train loss 0.35309], [train acc 0.87187]\n",
            "[epoch 4], [iter 800 / 1124], [train loss 0.34825], [train acc 0.87445]\n",
            "[epoch 4], [iter 900 / 1124], [train loss 0.34479], [train acc 0.87569]\n",
            "[epoch 4], [iter 1000 / 1124], [train loss 0.33908], [train acc 0.87844]\n",
            "[epoch 4], [iter 1100 / 1124], [train loss 0.33620], [train acc 0.87974]\n",
            "------------------------------------------------------------\n",
            "[epoch 4], [val loss 0.34466], [val acc 0.88381]\n",
            "------------------------------------------------------------\n",
            "[epoch 5], [iter 100 / 1124], [train loss 0.31352], [train acc 0.88406]\n",
            "[epoch 5], [iter 200 / 1124], [train loss 0.30543], [train acc 0.88750]\n",
            "[epoch 5], [iter 300 / 1124], [train loss 0.30071], [train acc 0.89104]\n",
            "[epoch 5], [iter 400 / 1124], [train loss 0.29999], [train acc 0.89070]\n",
            "[epoch 5], [iter 500 / 1124], [train loss 0.29468], [train acc 0.89294]\n",
            "[epoch 5], [iter 600 / 1124], [train loss 0.29282], [train acc 0.89469]\n",
            "[epoch 5], [iter 700 / 1124], [train loss 0.29078], [train acc 0.89531]\n",
            "[epoch 5], [iter 800 / 1124], [train loss 0.28778], [train acc 0.89645]\n",
            "[epoch 5], [iter 900 / 1124], [train loss 0.28643], [train acc 0.89653]\n",
            "[epoch 5], [iter 1000 / 1124], [train loss 0.28383], [train acc 0.89741]\n",
            "[epoch 5], [iter 1100 / 1124], [train loss 0.28255], [train acc 0.89756]\n",
            "------------------------------------------------------------\n",
            "[epoch 5], [val loss 0.30745], [val acc 0.89363]\n",
            "------------------------------------------------------------\n",
            "[epoch 6], [iter 100 / 1124], [train loss 0.24948], [train acc 0.90969]\n",
            "[epoch 6], [iter 200 / 1124], [train loss 0.25101], [train acc 0.90859]\n",
            "[epoch 6], [iter 300 / 1124], [train loss 0.24951], [train acc 0.91021]\n",
            "[epoch 6], [iter 400 / 1124], [train loss 0.25109], [train acc 0.91000]\n",
            "[epoch 6], [iter 500 / 1124], [train loss 0.25119], [train acc 0.90987]\n",
            "[epoch 6], [iter 600 / 1124], [train loss 0.24802], [train acc 0.91141]\n",
            "[epoch 6], [iter 700 / 1124], [train loss 0.24757], [train acc 0.91138]\n",
            "[epoch 6], [iter 800 / 1124], [train loss 0.24539], [train acc 0.91223]\n",
            "[epoch 6], [iter 900 / 1124], [train loss 0.24358], [train acc 0.91403]\n",
            "[epoch 6], [iter 1000 / 1124], [train loss 0.24125], [train acc 0.91491]\n",
            "[epoch 6], [iter 1100 / 1124], [train loss 0.24042], [train acc 0.91497]\n",
            "------------------------------------------------------------\n",
            "[epoch 6], [val loss 0.29567], [val acc 0.89363]\n",
            "------------------------------------------------------------\n",
            "[epoch 7], [iter 100 / 1124], [train loss 0.21218], [train acc 0.92594]\n",
            "[epoch 7], [iter 200 / 1124], [train loss 0.20975], [train acc 0.92672]\n",
            "[epoch 7], [iter 300 / 1124], [train loss 0.20631], [train acc 0.92917]\n",
            "[epoch 7], [iter 400 / 1124], [train loss 0.20325], [train acc 0.92898]\n",
            "[epoch 7], [iter 500 / 1124], [train loss 0.20201], [train acc 0.92937]\n",
            "[epoch 7], [iter 600 / 1124], [train loss 0.20227], [train acc 0.92953]\n",
            "[epoch 7], [iter 700 / 1124], [train loss 0.20438], [train acc 0.92929]\n",
            "[epoch 7], [iter 800 / 1124], [train loss 0.20390], [train acc 0.92984]\n",
            "[epoch 7], [iter 900 / 1124], [train loss 0.20230], [train acc 0.93066]\n",
            "[epoch 7], [iter 1000 / 1124], [train loss 0.20229], [train acc 0.93072]\n",
            "[epoch 7], [iter 1100 / 1124], [train loss 0.20224], [train acc 0.93071]\n",
            "------------------------------------------------------------\n",
            "[epoch 7], [val loss 0.29937], [val acc 0.89542]\n",
            "------------------------------------------------------------\n",
            "[epoch 8], [iter 100 / 1124], [train loss 0.19195], [train acc 0.92937]\n",
            "[epoch 8], [iter 200 / 1124], [train loss 0.18565], [train acc 0.93484]\n",
            "[epoch 8], [iter 300 / 1124], [train loss 0.18307], [train acc 0.93510]\n",
            "[epoch 8], [iter 400 / 1124], [train loss 0.18306], [train acc 0.93531]\n",
            "[epoch 8], [iter 500 / 1124], [train loss 0.18024], [train acc 0.93637]\n",
            "[epoch 8], [iter 600 / 1124], [train loss 0.17583], [train acc 0.93766]\n",
            "[epoch 8], [iter 700 / 1124], [train loss 0.17696], [train acc 0.93763]\n",
            "[epoch 8], [iter 800 / 1124], [train loss 0.17563], [train acc 0.93812]\n",
            "[epoch 8], [iter 900 / 1124], [train loss 0.17527], [train acc 0.93861]\n",
            "[epoch 8], [iter 1000 / 1124], [train loss 0.17399], [train acc 0.93947]\n",
            "[epoch 8], [iter 1100 / 1124], [train loss 0.17351], [train acc 0.93906]\n",
            "------------------------------------------------------------\n",
            "[epoch 8], [val loss 0.30976], [val acc 0.89988]\n",
            "------------------------------------------------------------\n",
            "*****************************************************\n",
            "best record: [epoch 8], [val loss 0.30976], [val acc 0.89988]\n",
            "*****************************************************\n",
            "[epoch 9], [iter 100 / 1124], [train loss 0.16159], [train acc 0.94437]\n",
            "[epoch 9], [iter 200 / 1124], [train loss 0.15501], [train acc 0.94734]\n",
            "[epoch 9], [iter 300 / 1124], [train loss 0.15515], [train acc 0.94677]\n",
            "[epoch 9], [iter 400 / 1124], [train loss 0.15666], [train acc 0.94664]\n",
            "[epoch 9], [iter 500 / 1124], [train loss 0.15725], [train acc 0.94681]\n",
            "[epoch 9], [iter 600 / 1124], [train loss 0.15842], [train acc 0.94604]\n",
            "[epoch 9], [iter 700 / 1124], [train loss 0.15555], [train acc 0.94696]\n",
            "[epoch 9], [iter 800 / 1124], [train loss 0.15497], [train acc 0.94703]\n",
            "[epoch 9], [iter 900 / 1124], [train loss 0.15476], [train acc 0.94705]\n",
            "[epoch 9], [iter 1000 / 1124], [train loss 0.15376], [train acc 0.94769]\n",
            "[epoch 9], [iter 1100 / 1124], [train loss 0.15260], [train acc 0.94810]\n",
            "------------------------------------------------------------\n",
            "[epoch 9], [val loss 0.29360], [val acc 0.91417]\n",
            "------------------------------------------------------------\n",
            "*****************************************************\n",
            "best record: [epoch 9], [val loss 0.29360], [val acc 0.91417]\n",
            "*****************************************************\n",
            "[epoch 10], [iter 100 / 1124], [train loss 0.13316], [train acc 0.95469]\n",
            "[epoch 10], [iter 200 / 1124], [train loss 0.13289], [train acc 0.95297]\n",
            "[epoch 10], [iter 300 / 1124], [train loss 0.13235], [train acc 0.95458]\n",
            "[epoch 10], [iter 400 / 1124], [train loss 0.13360], [train acc 0.95391]\n",
            "[epoch 10], [iter 500 / 1124], [train loss 0.13196], [train acc 0.95531]\n",
            "[epoch 10], [iter 600 / 1124], [train loss 0.13030], [train acc 0.95599]\n",
            "[epoch 10], [iter 700 / 1124], [train loss 0.13141], [train acc 0.95549]\n",
            "[epoch 10], [iter 800 / 1124], [train loss 0.13115], [train acc 0.95602]\n",
            "[epoch 10], [iter 900 / 1124], [train loss 0.13084], [train acc 0.95656]\n",
            "[epoch 10], [iter 1000 / 1124], [train loss 0.13024], [train acc 0.95675]\n",
            "[epoch 10], [iter 1100 / 1124], [train loss 0.12940], [train acc 0.95702]\n",
            "------------------------------------------------------------\n",
            "[epoch 10], [val loss 0.34793], [val acc 0.89440]\n",
            "------------------------------------------------------------\n",
            "[epoch 11], [iter 100 / 1124], [train loss 0.11371], [train acc 0.95937]\n",
            "[epoch 11], [iter 200 / 1124], [train loss 0.12387], [train acc 0.95547]\n",
            "[epoch 11], [iter 300 / 1124], [train loss 0.12851], [train acc 0.95458]\n",
            "[epoch 11], [iter 400 / 1124], [train loss 0.12879], [train acc 0.95484]\n",
            "[epoch 11], [iter 500 / 1124], [train loss 0.12362], [train acc 0.95731]\n",
            "[epoch 11], [iter 600 / 1124], [train loss 0.12243], [train acc 0.95823]\n",
            "[epoch 11], [iter 700 / 1124], [train loss 0.12143], [train acc 0.95848]\n",
            "[epoch 11], [iter 800 / 1124], [train loss 0.11909], [train acc 0.95969]\n",
            "[epoch 11], [iter 900 / 1124], [train loss 0.11910], [train acc 0.95969]\n",
            "[epoch 11], [iter 1000 / 1124], [train loss 0.11880], [train acc 0.95947]\n",
            "[epoch 11], [iter 1100 / 1124], [train loss 0.11811], [train acc 0.95989]\n",
            "------------------------------------------------------------\n",
            "[epoch 11], [val loss 0.29095], [val acc 0.89810]\n",
            "------------------------------------------------------------\n",
            "[epoch 12], [iter 100 / 1124], [train loss 0.10210], [train acc 0.96656]\n",
            "[epoch 12], [iter 200 / 1124], [train loss 0.10110], [train acc 0.96813]\n",
            "[epoch 12], [iter 300 / 1124], [train loss 0.10059], [train acc 0.96896]\n",
            "[epoch 12], [iter 400 / 1124], [train loss 0.10186], [train acc 0.96797]\n",
            "[epoch 12], [iter 500 / 1124], [train loss 0.10414], [train acc 0.96688]\n",
            "[epoch 12], [iter 600 / 1124], [train loss 0.10373], [train acc 0.96672]\n",
            "[epoch 12], [iter 700 / 1124], [train loss 0.10425], [train acc 0.96612]\n",
            "[epoch 12], [iter 800 / 1124], [train loss 0.10348], [train acc 0.96637]\n",
            "[epoch 12], [iter 900 / 1124], [train loss 0.10284], [train acc 0.96667]\n",
            "[epoch 12], [iter 1000 / 1124], [train loss 0.10342], [train acc 0.96656]\n",
            "[epoch 12], [iter 1100 / 1124], [train loss 0.10267], [train acc 0.96685]\n",
            "------------------------------------------------------------\n",
            "[epoch 12], [val loss 0.32401], [val acc 0.90881]\n",
            "------------------------------------------------------------\n",
            "[epoch 13], [iter 100 / 1124], [train loss 0.09339], [train acc 0.96969]\n",
            "[epoch 13], [iter 200 / 1124], [train loss 0.09995], [train acc 0.96719]\n",
            "[epoch 13], [iter 300 / 1124], [train loss 0.09812], [train acc 0.96771]\n",
            "[epoch 13], [iter 400 / 1124], [train loss 0.09527], [train acc 0.96883]\n",
            "[epoch 13], [iter 500 / 1124], [train loss 0.09509], [train acc 0.96913]\n",
            "[epoch 13], [iter 600 / 1124], [train loss 0.09607], [train acc 0.96885]\n",
            "[epoch 13], [iter 700 / 1124], [train loss 0.09525], [train acc 0.96884]\n",
            "[epoch 13], [iter 800 / 1124], [train loss 0.09540], [train acc 0.96898]\n",
            "[epoch 13], [iter 900 / 1124], [train loss 0.09640], [train acc 0.96872]\n",
            "[epoch 13], [iter 1000 / 1124], [train loss 0.09600], [train acc 0.96853]\n",
            "[epoch 13], [iter 1100 / 1124], [train loss 0.09550], [train acc 0.96864]\n",
            "------------------------------------------------------------\n",
            "[epoch 13], [val loss 0.31572], [val acc 0.91494]\n",
            "------------------------------------------------------------\n",
            "*****************************************************\n",
            "best record: [epoch 13], [val loss 0.31572], [val acc 0.91494]\n",
            "*****************************************************\n",
            "[epoch 14], [iter 100 / 1124], [train loss 0.07827], [train acc 0.97281]\n",
            "[epoch 14], [iter 200 / 1124], [train loss 0.08149], [train acc 0.97203]\n",
            "[epoch 14], [iter 300 / 1124], [train loss 0.07989], [train acc 0.97271]\n",
            "[epoch 14], [iter 400 / 1124], [train loss 0.08134], [train acc 0.97281]\n",
            "[epoch 14], [iter 500 / 1124], [train loss 0.08283], [train acc 0.97225]\n",
            "[epoch 14], [iter 600 / 1124], [train loss 0.08407], [train acc 0.97151]\n",
            "[epoch 14], [iter 700 / 1124], [train loss 0.08657], [train acc 0.97009]\n",
            "[epoch 14], [iter 800 / 1124], [train loss 0.08469], [train acc 0.97109]\n",
            "[epoch 14], [iter 900 / 1124], [train loss 0.08528], [train acc 0.97090]\n",
            "[epoch 14], [iter 1000 / 1124], [train loss 0.08528], [train acc 0.97091]\n",
            "[epoch 14], [iter 1100 / 1124], [train loss 0.08470], [train acc 0.97108]\n",
            "------------------------------------------------------------\n",
            "[epoch 14], [val loss 0.34616], [val acc 0.90970]\n",
            "------------------------------------------------------------\n",
            "[epoch 15], [iter 100 / 1124], [train loss 0.08078], [train acc 0.96969]\n",
            "[epoch 15], [iter 200 / 1124], [train loss 0.08020], [train acc 0.97125]\n",
            "[epoch 15], [iter 300 / 1124], [train loss 0.07566], [train acc 0.97510]\n",
            "[epoch 15], [iter 400 / 1124], [train loss 0.07261], [train acc 0.97688]\n",
            "[epoch 15], [iter 500 / 1124], [train loss 0.07276], [train acc 0.97694]\n",
            "[epoch 15], [iter 600 / 1124], [train loss 0.07413], [train acc 0.97672]\n",
            "[epoch 15], [iter 700 / 1124], [train loss 0.07570], [train acc 0.97607]\n",
            "[epoch 15], [iter 800 / 1124], [train loss 0.07601], [train acc 0.97594]\n",
            "[epoch 15], [iter 900 / 1124], [train loss 0.07488], [train acc 0.97663]\n",
            "[epoch 15], [iter 1000 / 1124], [train loss 0.07547], [train acc 0.97619]\n",
            "[epoch 15], [iter 1100 / 1124], [train loss 0.07516], [train acc 0.97594]\n",
            "------------------------------------------------------------\n",
            "[epoch 15], [val loss 0.32674], [val acc 0.91863]\n",
            "------------------------------------------------------------\n",
            "*****************************************************\n",
            "best record: [epoch 15], [val loss 0.32674], [val acc 0.91863]\n",
            "*****************************************************\n",
            "[epoch 16], [iter 100 / 1124], [train loss 0.06515], [train acc 0.98000]\n",
            "[epoch 16], [iter 200 / 1124], [train loss 0.06436], [train acc 0.98109]\n",
            "[epoch 16], [iter 300 / 1124], [train loss 0.06663], [train acc 0.97948]\n",
            "[epoch 16], [iter 400 / 1124], [train loss 0.06637], [train acc 0.98016]\n",
            "[epoch 16], [iter 500 / 1124], [train loss 0.06695], [train acc 0.97994]\n",
            "[epoch 16], [iter 600 / 1124], [train loss 0.06696], [train acc 0.97990]\n",
            "[epoch 16], [iter 700 / 1124], [train loss 0.06799], [train acc 0.97946]\n",
            "[epoch 16], [iter 800 / 1124], [train loss 0.06797], [train acc 0.97926]\n",
            "[epoch 16], [iter 900 / 1124], [train loss 0.06760], [train acc 0.97941]\n",
            "[epoch 16], [iter 1000 / 1124], [train loss 0.06769], [train acc 0.97916]\n",
            "[epoch 16], [iter 1100 / 1124], [train loss 0.06806], [train acc 0.97895]\n",
            "------------------------------------------------------------\n",
            "[epoch 16], [val loss 0.32563], [val acc 0.91327]\n",
            "------------------------------------------------------------\n",
            "[epoch 17], [iter 100 / 1124], [train loss 0.06058], [train acc 0.97906]\n",
            "[epoch 17], [iter 200 / 1124], [train loss 0.05432], [train acc 0.98188]\n",
            "[epoch 17], [iter 300 / 1124], [train loss 0.05553], [train acc 0.98260]\n",
            "[epoch 17], [iter 400 / 1124], [train loss 0.05451], [train acc 0.98328]\n",
            "[epoch 17], [iter 500 / 1124], [train loss 0.05569], [train acc 0.98281]\n",
            "[epoch 17], [iter 600 / 1124], [train loss 0.05711], [train acc 0.98276]\n",
            "[epoch 17], [iter 700 / 1124], [train loss 0.05817], [train acc 0.98214]\n",
            "[epoch 17], [iter 800 / 1124], [train loss 0.05948], [train acc 0.98180]\n",
            "[epoch 17], [iter 900 / 1124], [train loss 0.06029], [train acc 0.98122]\n",
            "[epoch 17], [iter 1000 / 1124], [train loss 0.05987], [train acc 0.98119]\n",
            "[epoch 17], [iter 1100 / 1124], [train loss 0.05973], [train acc 0.98125]\n",
            "------------------------------------------------------------\n",
            "[epoch 17], [val loss 0.37666], [val acc 0.90167]\n",
            "------------------------------------------------------------\n",
            "[epoch 18], [iter 100 / 1124], [train loss 0.06192], [train acc 0.97813]\n",
            "[epoch 18], [iter 200 / 1124], [train loss 0.05789], [train acc 0.98062]\n",
            "[epoch 18], [iter 300 / 1124], [train loss 0.05809], [train acc 0.98167]\n",
            "[epoch 18], [iter 400 / 1124], [train loss 0.05854], [train acc 0.98109]\n",
            "[epoch 18], [iter 500 / 1124], [train loss 0.05806], [train acc 0.98137]\n",
            "[epoch 18], [iter 600 / 1124], [train loss 0.05765], [train acc 0.98214]\n",
            "[epoch 18], [iter 700 / 1124], [train loss 0.05642], [train acc 0.98241]\n",
            "[epoch 18], [iter 800 / 1124], [train loss 0.05701], [train acc 0.98211]\n",
            "[epoch 18], [iter 900 / 1124], [train loss 0.05676], [train acc 0.98201]\n",
            "[epoch 18], [iter 1000 / 1124], [train loss 0.05670], [train acc 0.98216]\n",
            "[epoch 18], [iter 1100 / 1124], [train loss 0.05609], [train acc 0.98233]\n",
            "------------------------------------------------------------\n",
            "[epoch 18], [val loss 0.36364], [val acc 0.90970]\n",
            "------------------------------------------------------------\n",
            "[epoch 19], [iter 100 / 1124], [train loss 0.05080], [train acc 0.98375]\n",
            "[epoch 19], [iter 200 / 1124], [train loss 0.05142], [train acc 0.98344]\n",
            "[epoch 19], [iter 300 / 1124], [train loss 0.05531], [train acc 0.98219]\n",
            "[epoch 19], [iter 400 / 1124], [train loss 0.05210], [train acc 0.98383]\n",
            "[epoch 19], [iter 500 / 1124], [train loss 0.05111], [train acc 0.98438]\n",
            "[epoch 19], [iter 600 / 1124], [train loss 0.05017], [train acc 0.98469]\n",
            "[epoch 19], [iter 700 / 1124], [train loss 0.04984], [train acc 0.98478]\n",
            "[epoch 19], [iter 800 / 1124], [train loss 0.05115], [train acc 0.98410]\n",
            "[epoch 19], [iter 900 / 1124], [train loss 0.05138], [train acc 0.98392]\n",
            "[epoch 19], [iter 1000 / 1124], [train loss 0.05202], [train acc 0.98372]\n",
            "[epoch 19], [iter 1100 / 1124], [train loss 0.05141], [train acc 0.98401]\n",
            "------------------------------------------------------------\n",
            "[epoch 19], [val loss 0.35221], [val acc 0.90702]\n",
            "------------------------------------------------------------\n",
            "[epoch 20], [iter 100 / 1124], [train loss 0.04955], [train acc 0.98406]\n",
            "[epoch 20], [iter 200 / 1124], [train loss 0.04791], [train acc 0.98469]\n",
            "[epoch 20], [iter 300 / 1124], [train loss 0.04630], [train acc 0.98562]\n",
            "[epoch 20], [iter 400 / 1124], [train loss 0.04869], [train acc 0.98539]\n",
            "[epoch 20], [iter 500 / 1124], [train loss 0.04813], [train acc 0.98562]\n",
            "[epoch 20], [iter 600 / 1124], [train loss 0.04792], [train acc 0.98562]\n",
            "[epoch 20], [iter 700 / 1124], [train loss 0.04888], [train acc 0.98549]\n",
            "[epoch 20], [iter 800 / 1124], [train loss 0.04869], [train acc 0.98555]\n",
            "[epoch 20], [iter 900 / 1124], [train loss 0.04786], [train acc 0.98562]\n",
            "[epoch 20], [iter 1000 / 1124], [train loss 0.04740], [train acc 0.98566]\n",
            "[epoch 20], [iter 1100 / 1124], [train loss 0.04677], [train acc 0.98605]\n",
            "------------------------------------------------------------\n",
            "[epoch 20], [val loss 0.33469], [val acc 0.91060]\n",
            "------------------------------------------------------------\n",
            "[epoch 21], [iter 100 / 1124], [train loss 0.03917], [train acc 0.98750]\n",
            "[epoch 21], [iter 200 / 1124], [train loss 0.04026], [train acc 0.98781]\n",
            "[epoch 21], [iter 300 / 1124], [train loss 0.04118], [train acc 0.98833]\n",
            "[epoch 21], [iter 400 / 1124], [train loss 0.04391], [train acc 0.98648]\n",
            "[epoch 21], [iter 500 / 1124], [train loss 0.04346], [train acc 0.98625]\n",
            "[epoch 21], [iter 600 / 1124], [train loss 0.04343], [train acc 0.98604]\n",
            "[epoch 21], [iter 700 / 1124], [train loss 0.04268], [train acc 0.98616]\n",
            "[epoch 21], [iter 800 / 1124], [train loss 0.04307], [train acc 0.98613]\n",
            "[epoch 21], [iter 900 / 1124], [train loss 0.04256], [train acc 0.98646]\n",
            "[epoch 21], [iter 1000 / 1124], [train loss 0.04235], [train acc 0.98659]\n",
            "[epoch 21], [iter 1100 / 1124], [train loss 0.04242], [train acc 0.98651]\n",
            "------------------------------------------------------------\n",
            "[epoch 21], [val loss 0.40471], [val acc 0.90702]\n",
            "------------------------------------------------------------\n",
            "[epoch 22], [iter 100 / 1124], [train loss 0.04043], [train acc 0.98594]\n",
            "[epoch 22], [iter 200 / 1124], [train loss 0.03779], [train acc 0.98781]\n",
            "[epoch 22], [iter 300 / 1124], [train loss 0.03788], [train acc 0.98740]\n",
            "[epoch 22], [iter 400 / 1124], [train loss 0.03855], [train acc 0.98734]\n",
            "[epoch 22], [iter 500 / 1124], [train loss 0.03763], [train acc 0.98738]\n",
            "[epoch 22], [iter 600 / 1124], [train loss 0.03742], [train acc 0.98776]\n",
            "[epoch 22], [iter 700 / 1124], [train loss 0.03707], [train acc 0.98777]\n",
            "[epoch 22], [iter 800 / 1124], [train loss 0.03765], [train acc 0.98766]\n",
            "[epoch 22], [iter 900 / 1124], [train loss 0.03769], [train acc 0.98767]\n",
            "[epoch 22], [iter 1000 / 1124], [train loss 0.03829], [train acc 0.98756]\n",
            "[epoch 22], [iter 1100 / 1124], [train loss 0.03858], [train acc 0.98733]\n",
            "------------------------------------------------------------\n",
            "[epoch 22], [val loss 0.34651], [val acc 0.90881]\n",
            "------------------------------------------------------------\n",
            "[epoch 23], [iter 100 / 1124], [train loss 0.03218], [train acc 0.99000]\n",
            "[epoch 23], [iter 200 / 1124], [train loss 0.03636], [train acc 0.98813]\n",
            "[epoch 23], [iter 300 / 1124], [train loss 0.03690], [train acc 0.98833]\n",
            "[epoch 23], [iter 400 / 1124], [train loss 0.03910], [train acc 0.98727]\n",
            "[epoch 23], [iter 500 / 1124], [train loss 0.03783], [train acc 0.98762]\n",
            "[epoch 23], [iter 600 / 1124], [train loss 0.03816], [train acc 0.98802]\n",
            "[epoch 23], [iter 700 / 1124], [train loss 0.03842], [train acc 0.98795]\n",
            "[epoch 23], [iter 800 / 1124], [train loss 0.03747], [train acc 0.98852]\n",
            "[epoch 23], [iter 900 / 1124], [train loss 0.03719], [train acc 0.98861]\n",
            "[epoch 23], [iter 1000 / 1124], [train loss 0.03646], [train acc 0.98894]\n",
            "[epoch 23], [iter 1100 / 1124], [train loss 0.03673], [train acc 0.98892]\n",
            "------------------------------------------------------------\n",
            "[epoch 23], [val loss 0.36823], [val acc 0.90690]\n",
            "------------------------------------------------------------\n",
            "[epoch 24], [iter 100 / 1124], [train loss 0.03199], [train acc 0.99031]\n",
            "[epoch 24], [iter 200 / 1124], [train loss 0.02864], [train acc 0.99156]\n",
            "[epoch 24], [iter 300 / 1124], [train loss 0.03078], [train acc 0.99115]\n",
            "[epoch 24], [iter 400 / 1124], [train loss 0.03126], [train acc 0.99094]\n",
            "[epoch 24], [iter 500 / 1124], [train loss 0.03169], [train acc 0.99050]\n",
            "[epoch 24], [iter 600 / 1124], [train loss 0.03309], [train acc 0.98964]\n",
            "[epoch 24], [iter 700 / 1124], [train loss 0.03315], [train acc 0.98951]\n",
            "[epoch 24], [iter 800 / 1124], [train loss 0.03289], [train acc 0.98961]\n",
            "[epoch 24], [iter 900 / 1124], [train loss 0.03251], [train acc 0.98972]\n",
            "[epoch 24], [iter 1000 / 1124], [train loss 0.03220], [train acc 0.99003]\n",
            "[epoch 24], [iter 1100 / 1124], [train loss 0.03217], [train acc 0.98997]\n",
            "------------------------------------------------------------\n",
            "[epoch 24], [val loss 0.38750], [val acc 0.91595]\n",
            "------------------------------------------------------------\n",
            "[epoch 25], [iter 100 / 1124], [train loss 0.02526], [train acc 0.99156]\n",
            "[epoch 25], [iter 200 / 1124], [train loss 0.02789], [train acc 0.99078]\n",
            "[epoch 25], [iter 300 / 1124], [train loss 0.02962], [train acc 0.99021]\n",
            "[epoch 25], [iter 400 / 1124], [train loss 0.02983], [train acc 0.99047]\n",
            "[epoch 25], [iter 500 / 1124], [train loss 0.03140], [train acc 0.98975]\n",
            "[epoch 25], [iter 600 / 1124], [train loss 0.03109], [train acc 0.98995]\n",
            "[epoch 25], [iter 700 / 1124], [train loss 0.03100], [train acc 0.98978]\n",
            "[epoch 25], [iter 800 / 1124], [train loss 0.03151], [train acc 0.98961]\n",
            "[epoch 25], [iter 900 / 1124], [train loss 0.03181], [train acc 0.98962]\n",
            "[epoch 25], [iter 1000 / 1124], [train loss 0.03157], [train acc 0.98962]\n",
            "[epoch 25], [iter 1100 / 1124], [train loss 0.03186], [train acc 0.98960]\n",
            "------------------------------------------------------------\n",
            "[epoch 25], [val loss 0.38212], [val acc 0.90435]\n",
            "------------------------------------------------------------\n"
          ],
          "name": "stdout"
        }
      ]
    },
    {
      "cell_type": "code",
      "metadata": {
        "id": "KrO4-EX8P1Ni"
      },
      "source": [
        "with open (\"Test32_lr2.pickle\", \"wb\") as file:\n",
        "  pickle.dump(model, file)"
      ],
      "execution_count": 33,
      "outputs": []
    },
    {
      "cell_type": "markdown",
      "metadata": {
        "id": "QRhUmP_II0uy"
      },
      "source": [
        "**MODEL EVALUATION**"
      ]
    },
    {
      "cell_type": "code",
      "metadata": {
        "colab": {
          "base_uri": "https://localhost:8080/",
          "height": 265
        },
        "id": "83sYS6z-fCsu",
        "outputId": "385a74df-794a-4acc-b589-d4cb96689164"
      },
      "source": [
        "fig = plt.figure(num = 2)\n",
        "fig1 = fig.add_subplot(2,1,1)\n",
        "fig2 = fig.add_subplot(2,1,2)\n",
        "fig1.plot(total_loss_train, label = 'training loss')\n",
        "fig1.plot(total_acc_train, label = 'training accuracy')\n",
        "fig2.plot(total_loss_val, label = 'validation loss')\n",
        "fig2.plot(total_acc_val, label = 'validation accuracy')\n",
        "plt.legend()\n",
        "plt.show()"
      ],
      "execution_count": 34,
      "outputs": [
        {
          "output_type": "display_data",
          "data": {
            "image/png": "[encoded data removed]",
            "text/plain": [
              "<Figure size 432x288 with 2 Axes>"
            ]
          },
          "metadata": {
            "tags": [],
            "needs_background": "light"
          }
        }
      ]
    },
    {
      "cell_type": "code",
      "metadata": {
        "id": "NjiE0c7XfFsV"
      },
      "source": [
        "def plot_confusion_matrix(cm, classes,\n",
        "                          normalize=True,\n",
        "                          title='Confusion matrix',\n",
        "                          cmap=plt.cm.Blues):\n",
        "    \"\"\"\n",
        "    This function prints and plots the confusion matrix.\n",
        "    Normalization can be applied by setting `normalize=True`.\n",
        "    \"\"\"\n",
        "    plt.imshow(cm, interpolation='nearest', cmap=cmap)\n",
        "    plt.title(title)\n",
        "    plt.colorbar()\n",
        "    tick_marks = np.arange(len(classes))\n",
        "    plt.xticks(tick_marks, classes, rotation=45)\n",
        "    plt.yticks(tick_marks, classes)\n",
        "\n",
        "    if normalize:\n",
        "        cm = cm.astype('float') / cm.sum(axis=1)[:, np.newaxis]\n",
        "\n",
        "    thresh = cm.max() / 2.\n",
        "    for i, j in itertools.product(range(cm.shape[0]), range(cm.shape[1])):\n",
        "        plt.text(j, i, cm[i, j],\n",
        "                 horizontalalignment=\"center\",\n",
        "                 color=\"white\" if cm[i, j] > thresh else \"black\")\n",
        "\n",
        "    plt.tight_layout()\n",
        "    plt.ylabel('True label')\n",
        "    plt.xlabel('Predicted label')"
      ],
      "execution_count": 35,
      "outputs": []
    },
    {
      "cell_type": "code",
      "metadata": {
        "id": "ChuVT_fyfHfi",
        "colab": {
          "base_uri": "https://localhost:8080/",
          "height": 311
        },
        "outputId": "e1ebcad7-ead5-4c3e-ce8f-a30cc5be3524"
      },
      "source": [
        "model.eval()\n",
        "y_label = []\n",
        "y_predict = []\n",
        "with torch.no_grad():\n",
        "    for i, data in enumerate(val_loader):\n",
        "        images, labels = data\n",
        "        N = images.size(0)\n",
        "        images = Variable(images).to(device)\n",
        "        outputs = model(images)\n",
        "        prediction = outputs.max(1, keepdim=True)[1]\n",
        "        y_label.extend(labels.cpu().numpy())\n",
        "        y_predict.extend(np.squeeze(prediction.cpu().numpy().T))\n",
        "\n",
        "# compute the confusion matrix\n",
        "confusion_mtx = confusion_matrix(y_label, y_predict)\n",
        "# plot the confusion matrix\n",
        "plot_labels = ['akiec', 'bcc', 'bkl', 'df', 'nv', 'vasc','mel']\n",
        "plot_confusion_matrix(confusion_mtx, plot_labels)\n"
      ],
      "execution_count": 36,
      "outputs": [
        {
          "output_type": "display_data",
          "data": {
            "image/png": "[encoded data removed]",
            "text/plain": [
              "<Figure size 432x288 with 2 Axes>"
            ]
          },
          "metadata": {
            "tags": [],
            "needs_background": "light"
          }
        }
      ]
    },
    {
      "cell_type": "code",
      "metadata": {
        "id": "j7QZHcL3fJ9t",
        "colab": {
          "base_uri": "https://localhost:8080/"
        },
        "outputId": "6a106dc4-1394-4ee9-9a62-3ad6f99981d4"
      },
      "source": [
        "# Generate a classification report\n",
        "report = classification_report(y_label, y_predict, target_names=plot_labels)\n",
        "print(report)"
      ],
      "execution_count": 37,
      "outputs": [
        {
          "output_type": "stream",
          "text": [
            "              precision    recall  f1-score   support\n",
            "\n",
            "       akiec       0.65      0.57      0.61        30\n",
            "         bcc       0.82      0.77      0.79        35\n",
            "         bkl       0.82      0.61      0.70        88\n",
            "          df       0.83      0.62      0.71         8\n",
            "          nv       0.96      0.98      0.97       883\n",
            "        vasc       1.00      0.62      0.76        13\n",
            "         mel       0.45      0.59      0.51        46\n",
            "\n",
            "    accuracy                           0.91      1103\n",
            "   macro avg       0.79      0.68      0.72      1103\n",
            "weighted avg       0.91      0.91      0.91      1103\n",
            "\n"
          ],
          "name": "stdout"
        }
      ]
    },
    {
      "cell_type": "code",
      "metadata": {
        "id": "LjIf0A6DfMP3",
        "colab": {
          "base_uri": "https://localhost:8080/",
          "height": 296
        },
        "outputId": "fc3864c0-bef5-4860-bf82-08b3f0c16b18"
      },
      "source": [
        "label_frac_error = 1 - np.diag(confusion_mtx) / np.sum(confusion_mtx, axis=1)\n",
        "plt.bar(np.arange(7),label_frac_error)\n",
        "plt.xlabel('True Label')\n",
        "plt.ylabel('Fraction classified incorrectly')"
      ],
      "execution_count": 38,
      "outputs": [
        {
          "output_type": "execute_result",
          "data": {
            "text/plain": [
              "Text(0, 0.5, 'Fraction classified incorrectly')"
            ]
          },
          "metadata": {
            "tags": []
          },
          "execution_count": 38
        },
        {
          "output_type": "display_data",
          "data": {
            "image/png": "[encoded data removed]",
            "text/plain": [
              "<Figure size 432x288 with 1 Axes>"
            ]
          },
          "metadata": {
            "tags": [],
            "needs_background": "light"
          }
        }
      ]
    }
  ]
}