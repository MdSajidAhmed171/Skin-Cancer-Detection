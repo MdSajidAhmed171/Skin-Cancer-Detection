{
  "nbformat": 4,
  "nbformat_minor": 0,
  "metadata": {
    "accelerator": "GPU",
    "colab": {
      "name": "CSE499B_best_so_far-3.ipynb",
      "provenance": [],
      "collapsed_sections": []
    },
    "kernelspec": {
      "display_name": "Python 3",
      "language": "python",
      "name": "python3"
    },
    "language_info": {
      "codemirror_mode": {
        "name": "ipython",
        "version": 3
      },
      "file_extension": ".py",
      "mimetype": "text/x-python",
      "name": "python",
      "nbconvert_exporter": "python",
      "pygments_lexer": "ipython3",
      "version": "3.8.5"
    },
    "widgets": {
      "application/vnd.jupyter.widget-state+json": {
        "300ecf90204445b3907ba4f1bf9578af": {
          "model_module": "@jupyter-widgets/controls",
          "model_name": "HBoxModel",
          "state": {
            "_view_name": "HBoxView",
            "_dom_classes": [],
            "_model_name": "HBoxModel",
            "_view_module": "@jupyter-widgets/controls",
            "_model_module_version": "1.5.0",
            "_view_count": null,
            "_view_module_version": "1.5.0",
            "box_style": "",
            "layout": "IPY_MODEL_62c6b60517d24e869cb9a4c182176a8a",
            "_model_module": "@jupyter-widgets/controls",
            "children": [
              "IPY_MODEL_9039aa51186d4009a07d20e58b44db3f",
              "IPY_MODEL_1feea44e50914598b8ce4bc9a8a0f4d2"
            ]
          }
        },
        "62c6b60517d24e869cb9a4c182176a8a": {
          "model_module": "@jupyter-widgets/base",
          "model_name": "LayoutModel",
          "state": {
            "_view_name": "LayoutView",
            "grid_template_rows": null,
            "right": null,
            "justify_content": null,
            "_view_module": "@jupyter-widgets/base",
            "overflow": null,
            "_model_module_version": "1.2.0",
            "_view_count": null,
            "flex_flow": null,
            "width": null,
            "min_width": null,
            "border": null,
            "align_items": null,
            "bottom": null,
            "_model_module": "@jupyter-widgets/base",
            "top": null,
            "grid_column": null,
            "overflow_y": null,
            "overflow_x": null,
            "grid_auto_flow": null,
            "grid_area": null,
            "grid_template_columns": null,
            "flex": null,
            "_model_name": "LayoutModel",
            "justify_items": null,
            "grid_row": null,
            "max_height": null,
            "align_content": null,
            "visibility": null,
            "align_self": null,
            "height": null,
            "min_height": null,
            "padding": null,
            "grid_auto_rows": null,
            "grid_gap": null,
            "max_width": null,
            "order": null,
            "_view_module_version": "1.2.0",
            "grid_template_areas": null,
            "object_position": null,
            "object_fit": null,
            "grid_auto_columns": null,
            "margin": null,
            "display": null,
            "left": null
          }
        },
        "9039aa51186d4009a07d20e58b44db3f": {
          "model_module": "@jupyter-widgets/controls",
          "model_name": "FloatProgressModel",
          "state": {
            "_view_name": "ProgressView",
            "style": "IPY_MODEL_bb92195c2aed42f19eb664de0cc3a922",
            "_dom_classes": [],
            "description": "100%",
            "_model_name": "FloatProgressModel",
            "bar_style": "success",
            "max": 531503671,
            "_view_module": "@jupyter-widgets/controls",
            "_model_module_version": "1.5.0",
            "value": 531503671,
            "_view_count": null,
            "_view_module_version": "1.5.0",
            "orientation": "horizontal",
            "min": 0,
            "description_tooltip": null,
            "_model_module": "@jupyter-widgets/controls",
            "layout": "IPY_MODEL_123ce81425dd4bae8a5b9ea162d0cfa2"
          }
        },
        "1feea44e50914598b8ce4bc9a8a0f4d2": {
          "model_module": "@jupyter-widgets/controls",
          "model_name": "HTMLModel",
          "state": {
            "_view_name": "HTMLView",
            "style": "IPY_MODEL_636ef4edbdf74d768f066c09a9026d63",
            "_dom_classes": [],
            "description": "",
            "_model_name": "HTMLModel",
            "placeholder": "​",
            "_view_module": "@jupyter-widgets/controls",
            "_model_module_version": "1.5.0",
            "value": " 507M/507M [7:32:12&lt;00:00, 19.6kB/s]",
            "_view_count": null,
            "_view_module_version": "1.5.0",
            "description_tooltip": null,
            "_model_module": "@jupyter-widgets/controls",
            "layout": "IPY_MODEL_8ed320d12b4f49c8b6794e19f4f7f4ae"
          }
        },
        "bb92195c2aed42f19eb664de0cc3a922": {
          "model_module": "@jupyter-widgets/controls",
          "model_name": "ProgressStyleModel",
          "state": {
            "_view_name": "StyleView",
            "_model_name": "ProgressStyleModel",
            "description_width": "initial",
            "_view_module": "@jupyter-widgets/base",
            "_model_module_version": "1.5.0",
            "_view_count": null,
            "_view_module_version": "1.2.0",
            "bar_color": null,
            "_model_module": "@jupyter-widgets/controls"
          }
        },
        "123ce81425dd4bae8a5b9ea162d0cfa2": {
          "model_module": "@jupyter-widgets/base",
          "model_name": "LayoutModel",
          "state": {
            "_view_name": "LayoutView",
            "grid_template_rows": null,
            "right": null,
            "justify_content": null,
            "_view_module": "@jupyter-widgets/base",
            "overflow": null,
            "_model_module_version": "1.2.0",
            "_view_count": null,
            "flex_flow": null,
            "width": null,
            "min_width": null,
            "border": null,
            "align_items": null,
            "bottom": null,
            "_model_module": "@jupyter-widgets/base",
            "top": null,
            "grid_column": null,
            "overflow_y": null,
            "overflow_x": null,
            "grid_auto_flow": null,
            "grid_area": null,
            "grid_template_columns": null,
            "flex": null,
            "_model_name": "LayoutModel",
            "justify_items": null,
            "grid_row": null,
            "max_height": null,
            "align_content": null,
            "visibility": null,
            "align_self": null,
            "height": null,
            "min_height": null,
            "padding": null,
            "grid_auto_rows": null,
            "grid_gap": null,
            "max_width": null,
            "order": null,
            "_view_module_version": "1.2.0",
            "grid_template_areas": null,
            "object_position": null,
            "object_fit": null,
            "grid_auto_columns": null,
            "margin": null,
            "display": null,
            "left": null
          }
        },
        "636ef4edbdf74d768f066c09a9026d63": {
          "model_module": "@jupyter-widgets/controls",
          "model_name": "DescriptionStyleModel",
          "state": {
            "_view_name": "StyleView",
            "_model_name": "DescriptionStyleModel",
            "description_width": "",
            "_view_module": "@jupyter-widgets/base",
            "_model_module_version": "1.5.0",
            "_view_count": null,
            "_view_module_version": "1.2.0",
            "_model_module": "@jupyter-widgets/controls"
          }
        },
        "8ed320d12b4f49c8b6794e19f4f7f4ae": {
          "model_module": "@jupyter-widgets/base",
          "model_name": "LayoutModel",
          "state": {
            "_view_name": "LayoutView",
            "grid_template_rows": null,
            "right": null,
            "justify_content": null,
            "_view_module": "@jupyter-widgets/base",
            "overflow": null,
            "_model_module_version": "1.2.0",
            "_view_count": null,
            "flex_flow": null,
            "width": null,
            "min_width": null,
            "border": null,
            "align_items": null,
            "bottom": null,
            "_model_module": "@jupyter-widgets/base",
            "top": null,
            "grid_column": null,
            "overflow_y": null,
            "overflow_x": null,
            "grid_auto_flow": null,
            "grid_area": null,
            "grid_template_columns": null,
            "flex": null,
            "_model_name": "LayoutModel",
            "justify_items": null,
            "grid_row": null,
            "max_height": null,
            "align_content": null,
            "visibility": null,
            "align_self": null,
            "height": null,
            "min_height": null,
            "padding": null,
            "grid_auto_rows": null,
            "grid_gap": null,
            "max_width": null,
            "order": null,
            "_view_module_version": "1.2.0",
            "grid_template_areas": null,
            "object_position": null,
            "object_fit": null,
            "grid_auto_columns": null,
            "margin": null,
            "display": null,
            "left": null
          }
        }
      }
    }
  },
  "cells": [
    {
      "cell_type": "markdown",
      "metadata": {
        "id": "V6YDfK_IZmiY"
      },
      "source": [
        "**IMPORTING LIBRARIES**"
      ]
    },
    {
      "cell_type": "code",
      "metadata": {
        "colab": {
          "base_uri": "https://localhost:8080/"
        },
        "id": "SUj4LOknyJzD",
        "outputId": "2ac44a50-c338-413b-aabd-bea9c179e186"
      },
      "source": [
        "%matplotlib inline\n",
        "# python libraties\n",
        "import os, cv2,itertools\n",
        "import matplotlib.pyplot as plt\n",
        "import numpy as np\n",
        "import pandas as pd\n",
        "import pickle\n",
        "from tqdm import tqdm\n",
        "from glob import glob\n",
        "from PIL import Image\n",
        "\n",
        "# pytorch libraries\n",
        "import torch\n",
        "from torch import optim,nn\n",
        "from torch.autograd import Variable\n",
        "from torch.utils.data import DataLoader,Dataset\n",
        "from torchvision import models,transforms\n",
        "\n",
        "# sklearn libraries\n",
        "from sklearn.metrics import confusion_matrix\n",
        "from sklearn.model_selection import train_test_split\n",
        "from sklearn.metrics import classification_report\n",
        "\n",
        "\n",
        "np.random.seed(10)\n",
        "torch.manual_seed(10)\n",
        "torch.cuda.manual_seed(10)\n",
        "\n",
        "print(os.listdir(\"/content/drive/MyDrive/input499\"))"
      ],
      "execution_count": 2,
      "outputs": [
        {
          "output_type": "stream",
          "text": [
            "['HAM10000_metadata.csv', 'hmnist_28_28_L.csv', 'hmnist_28_28_RGB.csv', 'hmnist_8_8_RGB.csv', 'hmnist_8_8_L.csv', 'HAM10000_images_part_1', 'HAM10000_images_part_2']\n"
          ],
          "name": "stdout"
        }
      ]
    },
    {
      "cell_type": "code",
      "metadata": {
        "colab": {
          "base_uri": "https://localhost:8080/"
        },
        "id": "Rh90iHEtaDJ2",
        "outputId": "7232e382-74ed-4bff-d358-ca6b4821c557"
      },
      "source": [
        "from google.colab import drive\n",
        "drive.mount('/content/drive')"
      ],
      "execution_count": 3,
      "outputs": [
        {
          "output_type": "stream",
          "text": [
            "Drive already mounted at /content/drive; to attempt to forcibly remount, call drive.mount(\"/content/drive\", force_remount=True).\n"
          ],
          "name": "stdout"
        }
      ]
    },
    {
      "cell_type": "markdown",
      "metadata": {
        "id": "7lfWWyG8ZxcW"
      },
      "source": [
        "**Data analysis and preprocessing**"
      ]
    },
    {
      "cell_type": "code",
      "metadata": {
        "id": "dVrJGWevZy9F"
      },
      "source": [
        "data_dir = '/content/drive/MyDrive/input499'\n",
        "all_image_path = glob(os.path.join(data_dir, '*', '*.jpg'))\n",
        "imageid_path_dict = {os.path.splitext(os.path.basename(x))[0]: x for x in all_image_path}\n",
        "lesion_type_dict = {\n",
        "    'nv': 'Melanocytic nevi',\n",
        "    'mel': 'Melanoma',\n",
        "    'bkl': 'Benign keratosis-like lesions ',\n",
        "    'bcc': 'Basal cell carcinoma',\n",
        "    'akiec': 'Actinic keratoses',\n",
        "    'vasc': 'Vascular lesions',\n",
        "    'df': 'Dermatofibroma'\n",
        "}"
      ],
      "execution_count": 4,
      "outputs": []
    },
    {
      "cell_type": "code",
      "metadata": {
        "id": "hf4RuHBceJd8"
      },
      "source": [
        "def compute_img_mean_std(image_paths):\n",
        "    \"\"\"\n",
        "        computing the mean and std of three channel on the whole dataset,\n",
        "        first we should normalize the image from 0-255 to 0-1\n",
        "    \"\"\"\n",
        "\n",
        "    img_h, img_w = 224, 224\n",
        "    imgs = []\n",
        "    means, stdevs = [], []\n",
        "\n",
        "    for i in tqdm(range(len(image_paths))):\n",
        "        img = cv2.imread(image_paths[i])\n",
        "        img = cv2.resize(img, (img_h, img_w))\n",
        "        imgs.append(img)\n",
        "\n",
        "    imgs = np.stack(imgs, axis=3)\n",
        "    print(imgs.shape)\n",
        "\n",
        "    imgs = imgs.astype(np.float32) / 255.\n",
        "\n",
        "    for i in range(3):\n",
        "        pixels = imgs[:, :, i, :].ravel()  # resize to one row\n",
        "        means.append(np.mean(pixels))\n",
        "        stdevs.append(np.std(pixels))\n",
        "\n",
        "    means.reverse()  # BGR --> RGB\n",
        "    stdevs.reverse()\n",
        "\n",
        "    print(\"normMean = {}\".format(means))\n",
        "    print(\"normStd = {}\".format(stdevs))\n",
        "    return means,stdevs"
      ],
      "execution_count": 5,
      "outputs": []
    },
    {
      "cell_type": "code",
      "metadata": {
        "id": "_rFELfmseKxV"
      },
      "source": [
        "# norm_mean,norm_std = compute_img_mean_std(all_image_path)"
      ],
      "execution_count": 6,
      "outputs": []
    },
    {
      "cell_type": "code",
      "metadata": {
        "id": "eM-17oP-pMYs"
      },
      "source": [
        "norm_mean = (0.763035, 0.54564625, 0.5700399)\n",
        "norm_std = (0.1409281, 0.15261264, 0.16997051)"
      ],
      "execution_count": 7,
      "outputs": []
    },
    {
      "cell_type": "code",
      "metadata": {
        "colab": {
          "base_uri": "https://localhost:8080/",
          "height": 194
        },
        "id": "jfALDyx-eM9t",
        "outputId": "29f3279a-6e09-4378-98bc-f7e64d34d1a5"
      },
      "source": [
        "df_original = pd.read_csv(os.path.join(data_dir, 'HAM10000_metadata.csv'))\n",
        "df_original['path'] = df_original['image_id'].map(imageid_path_dict.get)\n",
        "df_original['cell_type'] = df_original['dx'].map(lesion_type_dict.get)\n",
        "df_original['cell_type_idx'] = pd.Categorical(df_original['cell_type']).codes\n",
        "df_original.head()"
      ],
      "execution_count": 8,
      "outputs": [
        {
          "output_type": "execute_result",
          "data": {
            "text/html": [
              "<div>\n",
              "<style scoped>\n",
              "    .dataframe tbody tr th:only-of-type {\n",
              "        vertical-align: middle;\n",
              "    }\n",
              "\n",
              "    .dataframe tbody tr th {\n",
              "        vertical-align: top;\n",
              "    }\n",
              "\n",
              "    .dataframe thead th {\n",
              "        text-align: right;\n",
              "    }\n",
              "</style>\n",
              "<table border=\"1\" class=\"dataframe\">\n",
              "  <thead>\n",
              "    <tr style=\"text-align: right;\">\n",
              "      <th></th>\n",
              "      <th>lesion_id</th>\n",
              "      <th>image_id</th>\n",
              "      <th>dx</th>\n",
              "      <th>dx_type</th>\n",
              "      <th>age</th>\n",
              "      <th>sex</th>\n",
              "      <th>localization</th>\n",
              "      <th>path</th>\n",
              "      <th>cell_type</th>\n",
              "      <th>cell_type_idx</th>\n",
              "    </tr>\n",
              "  </thead>\n",
              "  <tbody>\n",
              "    <tr>\n",
              "      <th>0</th>\n",
              "      <td>HAM_0000118</td>\n",
              "      <td>ISIC_0027419</td>\n",
              "      <td>bkl</td>\n",
              "      <td>histo</td>\n",
              "      <td>80.0</td>\n",
              "      <td>male</td>\n",
              "      <td>scalp</td>\n",
              "      <td>/content/drive/MyDrive/input499/HAM10000_image...</td>\n",
              "      <td>Benign keratosis-like lesions</td>\n",
              "      <td>2</td>\n",
              "    </tr>\n",
              "    <tr>\n",
              "      <th>1</th>\n",
              "      <td>HAM_0000118</td>\n",
              "      <td>ISIC_0025030</td>\n",
              "      <td>bkl</td>\n",
              "      <td>histo</td>\n",
              "      <td>80.0</td>\n",
              "      <td>male</td>\n",
              "      <td>scalp</td>\n",
              "      <td>/content/drive/MyDrive/input499/HAM10000_image...</td>\n",
              "      <td>Benign keratosis-like lesions</td>\n",
              "      <td>2</td>\n",
              "    </tr>\n",
              "    <tr>\n",
              "      <th>2</th>\n",
              "      <td>HAM_0002730</td>\n",
              "      <td>ISIC_0026769</td>\n",
              "      <td>bkl</td>\n",
              "      <td>histo</td>\n",
              "      <td>80.0</td>\n",
              "      <td>male</td>\n",
              "      <td>scalp</td>\n",
              "      <td>/content/drive/MyDrive/input499/HAM10000_image...</td>\n",
              "      <td>Benign keratosis-like lesions</td>\n",
              "      <td>2</td>\n",
              "    </tr>\n",
              "    <tr>\n",
              "      <th>3</th>\n",
              "      <td>HAM_0002730</td>\n",
              "      <td>ISIC_0025661</td>\n",
              "      <td>bkl</td>\n",
              "      <td>histo</td>\n",
              "      <td>80.0</td>\n",
              "      <td>male</td>\n",
              "      <td>scalp</td>\n",
              "      <td>/content/drive/MyDrive/input499/HAM10000_image...</td>\n",
              "      <td>Benign keratosis-like lesions</td>\n",
              "      <td>2</td>\n",
              "    </tr>\n",
              "    <tr>\n",
              "      <th>4</th>\n",
              "      <td>HAM_0001466</td>\n",
              "      <td>ISIC_0031633</td>\n",
              "      <td>bkl</td>\n",
              "      <td>histo</td>\n",
              "      <td>75.0</td>\n",
              "      <td>male</td>\n",
              "      <td>ear</td>\n",
              "      <td>/content/drive/MyDrive/input499/HAM10000_image...</td>\n",
              "      <td>Benign keratosis-like lesions</td>\n",
              "      <td>2</td>\n",
              "    </tr>\n",
              "  </tbody>\n",
              "</table>\n",
              "</div>"
            ],
            "text/plain": [
              "     lesion_id      image_id  ...                       cell_type cell_type_idx\n",
              "0  HAM_0000118  ISIC_0027419  ...  Benign keratosis-like lesions              2\n",
              "1  HAM_0000118  ISIC_0025030  ...  Benign keratosis-like lesions              2\n",
              "2  HAM_0002730  ISIC_0026769  ...  Benign keratosis-like lesions              2\n",
              "3  HAM_0002730  ISIC_0025661  ...  Benign keratosis-like lesions              2\n",
              "4  HAM_0001466  ISIC_0031633  ...  Benign keratosis-like lesions              2\n",
              "\n",
              "[5 rows x 10 columns]"
            ]
          },
          "metadata": {
            "tags": []
          },
          "execution_count": 8
        }
      ]
    },
    {
      "cell_type": "code",
      "metadata": {
        "colab": {
          "base_uri": "https://localhost:8080/",
          "height": 194
        },
        "id": "NXlI1GCKePD9",
        "outputId": "306956ee-0379-4743-d23e-8727a3cc2a15"
      },
      "source": [
        "# this will tell us how many images are associated with each lesion_id\n",
        "df_undup = df_original.groupby('lesion_id').count()\n",
        "# now we filter out lesion_id's that have only one image associated with it\n",
        "df_undup = df_undup[df_undup['image_id'] == 1]\n",
        "df_undup.reset_index(inplace=True)\n",
        "df_undup.head()"
      ],
      "execution_count": 9,
      "outputs": [
        {
          "output_type": "execute_result",
          "data": {
            "text/html": [
              "<div>\n",
              "<style scoped>\n",
              "    .dataframe tbody tr th:only-of-type {\n",
              "        vertical-align: middle;\n",
              "    }\n",
              "\n",
              "    .dataframe tbody tr th {\n",
              "        vertical-align: top;\n",
              "    }\n",
              "\n",
              "    .dataframe thead th {\n",
              "        text-align: right;\n",
              "    }\n",
              "</style>\n",
              "<table border=\"1\" class=\"dataframe\">\n",
              "  <thead>\n",
              "    <tr style=\"text-align: right;\">\n",
              "      <th></th>\n",
              "      <th>lesion_id</th>\n",
              "      <th>image_id</th>\n",
              "      <th>dx</th>\n",
              "      <th>dx_type</th>\n",
              "      <th>age</th>\n",
              "      <th>sex</th>\n",
              "      <th>localization</th>\n",
              "      <th>path</th>\n",
              "      <th>cell_type</th>\n",
              "      <th>cell_type_idx</th>\n",
              "    </tr>\n",
              "  </thead>\n",
              "  <tbody>\n",
              "    <tr>\n",
              "      <th>0</th>\n",
              "      <td>HAM_0000001</td>\n",
              "      <td>1</td>\n",
              "      <td>1</td>\n",
              "      <td>1</td>\n",
              "      <td>1</td>\n",
              "      <td>1</td>\n",
              "      <td>1</td>\n",
              "      <td>1</td>\n",
              "      <td>1</td>\n",
              "      <td>1</td>\n",
              "    </tr>\n",
              "    <tr>\n",
              "      <th>1</th>\n",
              "      <td>HAM_0000003</td>\n",
              "      <td>1</td>\n",
              "      <td>1</td>\n",
              "      <td>1</td>\n",
              "      <td>1</td>\n",
              "      <td>1</td>\n",
              "      <td>1</td>\n",
              "      <td>1</td>\n",
              "      <td>1</td>\n",
              "      <td>1</td>\n",
              "    </tr>\n",
              "    <tr>\n",
              "      <th>2</th>\n",
              "      <td>HAM_0000004</td>\n",
              "      <td>1</td>\n",
              "      <td>1</td>\n",
              "      <td>1</td>\n",
              "      <td>1</td>\n",
              "      <td>1</td>\n",
              "      <td>1</td>\n",
              "      <td>1</td>\n",
              "      <td>1</td>\n",
              "      <td>1</td>\n",
              "    </tr>\n",
              "    <tr>\n",
              "      <th>3</th>\n",
              "      <td>HAM_0000007</td>\n",
              "      <td>1</td>\n",
              "      <td>1</td>\n",
              "      <td>1</td>\n",
              "      <td>1</td>\n",
              "      <td>1</td>\n",
              "      <td>1</td>\n",
              "      <td>1</td>\n",
              "      <td>1</td>\n",
              "      <td>1</td>\n",
              "    </tr>\n",
              "    <tr>\n",
              "      <th>4</th>\n",
              "      <td>HAM_0000008</td>\n",
              "      <td>1</td>\n",
              "      <td>1</td>\n",
              "      <td>1</td>\n",
              "      <td>1</td>\n",
              "      <td>1</td>\n",
              "      <td>1</td>\n",
              "      <td>1</td>\n",
              "      <td>1</td>\n",
              "      <td>1</td>\n",
              "    </tr>\n",
              "  </tbody>\n",
              "</table>\n",
              "</div>"
            ],
            "text/plain": [
              "     lesion_id  image_id  dx  ...  path  cell_type  cell_type_idx\n",
              "0  HAM_0000001         1   1  ...     1          1              1\n",
              "1  HAM_0000003         1   1  ...     1          1              1\n",
              "2  HAM_0000004         1   1  ...     1          1              1\n",
              "3  HAM_0000007         1   1  ...     1          1              1\n",
              "4  HAM_0000008         1   1  ...     1          1              1\n",
              "\n",
              "[5 rows x 10 columns]"
            ]
          },
          "metadata": {
            "tags": []
          },
          "execution_count": 9
        }
      ]
    },
    {
      "cell_type": "code",
      "metadata": {
        "colab": {
          "base_uri": "https://localhost:8080/",
          "height": 194
        },
        "id": "F6VdpWrieQ31",
        "outputId": "686bab3b-3b54-4e14-eeb3-b488d653301b"
      },
      "source": [
        "# here we identify lesion_id's that have duplicate images and those that have only one image.\n",
        "def get_duplicates(x):\n",
        "    unique_list = list(df_undup['lesion_id'])\n",
        "    if x in unique_list:\n",
        "        return 'unduplicated'\n",
        "    else:\n",
        "        return 'duplicated'\n",
        "\n",
        "# create a new colum that is a copy of the lesion_id column\n",
        "df_original['duplicates'] = df_original['lesion_id']\n",
        "# apply the function to this new column\n",
        "df_original['duplicates'] = df_original['duplicates'].apply(get_duplicates)\n",
        "df_original.head()"
      ],
      "execution_count": 10,
      "outputs": [
        {
          "output_type": "execute_result",
          "data": {
            "text/html": [
              "<div>\n",
              "<style scoped>\n",
              "    .dataframe tbody tr th:only-of-type {\n",
              "        vertical-align: middle;\n",
              "    }\n",
              "\n",
              "    .dataframe tbody tr th {\n",
              "        vertical-align: top;\n",
              "    }\n",
              "\n",
              "    .dataframe thead th {\n",
              "        text-align: right;\n",
              "    }\n",
              "</style>\n",
              "<table border=\"1\" class=\"dataframe\">\n",
              "  <thead>\n",
              "    <tr style=\"text-align: right;\">\n",
              "      <th></th>\n",
              "      <th>lesion_id</th>\n",
              "      <th>image_id</th>\n",
              "      <th>dx</th>\n",
              "      <th>dx_type</th>\n",
              "      <th>age</th>\n",
              "      <th>sex</th>\n",
              "      <th>localization</th>\n",
              "      <th>path</th>\n",
              "      <th>cell_type</th>\n",
              "      <th>cell_type_idx</th>\n",
              "      <th>duplicates</th>\n",
              "    </tr>\n",
              "  </thead>\n",
              "  <tbody>\n",
              "    <tr>\n",
              "      <th>0</th>\n",
              "      <td>HAM_0000118</td>\n",
              "      <td>ISIC_0027419</td>\n",
              "      <td>bkl</td>\n",
              "      <td>histo</td>\n",
              "      <td>80.0</td>\n",
              "      <td>male</td>\n",
              "      <td>scalp</td>\n",
              "      <td>/content/drive/MyDrive/input499/HAM10000_image...</td>\n",
              "      <td>Benign keratosis-like lesions</td>\n",
              "      <td>2</td>\n",
              "      <td>duplicated</td>\n",
              "    </tr>\n",
              "    <tr>\n",
              "      <th>1</th>\n",
              "      <td>HAM_0000118</td>\n",
              "      <td>ISIC_0025030</td>\n",
              "      <td>bkl</td>\n",
              "      <td>histo</td>\n",
              "      <td>80.0</td>\n",
              "      <td>male</td>\n",
              "      <td>scalp</td>\n",
              "      <td>/content/drive/MyDrive/input499/HAM10000_image...</td>\n",
              "      <td>Benign keratosis-like lesions</td>\n",
              "      <td>2</td>\n",
              "      <td>duplicated</td>\n",
              "    </tr>\n",
              "    <tr>\n",
              "      <th>2</th>\n",
              "      <td>HAM_0002730</td>\n",
              "      <td>ISIC_0026769</td>\n",
              "      <td>bkl</td>\n",
              "      <td>histo</td>\n",
              "      <td>80.0</td>\n",
              "      <td>male</td>\n",
              "      <td>scalp</td>\n",
              "      <td>/content/drive/MyDrive/input499/HAM10000_image...</td>\n",
              "      <td>Benign keratosis-like lesions</td>\n",
              "      <td>2</td>\n",
              "      <td>duplicated</td>\n",
              "    </tr>\n",
              "    <tr>\n",
              "      <th>3</th>\n",
              "      <td>HAM_0002730</td>\n",
              "      <td>ISIC_0025661</td>\n",
              "      <td>bkl</td>\n",
              "      <td>histo</td>\n",
              "      <td>80.0</td>\n",
              "      <td>male</td>\n",
              "      <td>scalp</td>\n",
              "      <td>/content/drive/MyDrive/input499/HAM10000_image...</td>\n",
              "      <td>Benign keratosis-like lesions</td>\n",
              "      <td>2</td>\n",
              "      <td>duplicated</td>\n",
              "    </tr>\n",
              "    <tr>\n",
              "      <th>4</th>\n",
              "      <td>HAM_0001466</td>\n",
              "      <td>ISIC_0031633</td>\n",
              "      <td>bkl</td>\n",
              "      <td>histo</td>\n",
              "      <td>75.0</td>\n",
              "      <td>male</td>\n",
              "      <td>ear</td>\n",
              "      <td>/content/drive/MyDrive/input499/HAM10000_image...</td>\n",
              "      <td>Benign keratosis-like lesions</td>\n",
              "      <td>2</td>\n",
              "      <td>duplicated</td>\n",
              "    </tr>\n",
              "  </tbody>\n",
              "</table>\n",
              "</div>"
            ],
            "text/plain": [
              "     lesion_id      image_id  ... cell_type_idx  duplicates\n",
              "0  HAM_0000118  ISIC_0027419  ...             2  duplicated\n",
              "1  HAM_0000118  ISIC_0025030  ...             2  duplicated\n",
              "2  HAM_0002730  ISIC_0026769  ...             2  duplicated\n",
              "3  HAM_0002730  ISIC_0025661  ...             2  duplicated\n",
              "4  HAM_0001466  ISIC_0031633  ...             2  duplicated\n",
              "\n",
              "[5 rows x 11 columns]"
            ]
          },
          "metadata": {
            "tags": []
          },
          "execution_count": 10
        }
      ]
    },
    {
      "cell_type": "code",
      "metadata": {
        "colab": {
          "base_uri": "https://localhost:8080/"
        },
        "id": "dZYpftUqeTVm",
        "outputId": "ebf7fae5-f1e1-43bb-e27e-c6e3483db0e2"
      },
      "source": [
        "df_original['duplicates'].value_counts()"
      ],
      "execution_count": 11,
      "outputs": [
        {
          "output_type": "execute_result",
          "data": {
            "text/plain": [
              "unduplicated    5514\n",
              "duplicated      4501\n",
              "Name: duplicates, dtype: int64"
            ]
          },
          "metadata": {
            "tags": []
          },
          "execution_count": 11
        }
      ]
    },
    {
      "cell_type": "code",
      "metadata": {
        "colab": {
          "base_uri": "https://localhost:8080/"
        },
        "id": "6H5V4KBVeVrX",
        "outputId": "48b260b5-5881-4104-dfbc-c8fb63796cd1"
      },
      "source": [
        "# now we filter out images that don't have duplicates\n",
        "df_undup = df_original[df_original['duplicates'] == 'unduplicated']\n",
        "df_undup.shape"
      ],
      "execution_count": 12,
      "outputs": [
        {
          "output_type": "execute_result",
          "data": {
            "text/plain": [
              "(5514, 11)"
            ]
          },
          "metadata": {
            "tags": []
          },
          "execution_count": 12
        }
      ]
    },
    {
      "cell_type": "code",
      "metadata": {
        "colab": {
          "base_uri": "https://localhost:8080/"
        },
        "id": "nHBC7w_heX5F",
        "outputId": "c135e515-e9f5-40d3-e685-4f284811b097"
      },
      "source": [
        "# now we create a val set using df because we are sure that none of these images have augmented duplicates in the train set\n",
        "y = df_undup['cell_type_idx']\n",
        "_, df_val = train_test_split(df_undup, test_size=0.2, random_state=101, stratify=y)\n",
        "df_val.shape"
      ],
      "execution_count": 13,
      "outputs": [
        {
          "output_type": "execute_result",
          "data": {
            "text/plain": [
              "(1103, 11)"
            ]
          },
          "metadata": {
            "tags": []
          },
          "execution_count": 13
        }
      ]
    },
    {
      "cell_type": "code",
      "metadata": {
        "colab": {
          "base_uri": "https://localhost:8080/"
        },
        "id": "8V4kl9kleZq1",
        "outputId": "9f369b5e-101b-497b-8a84-943b881eaf55"
      },
      "source": [
        "df_val['cell_type_idx'].value_counts()"
      ],
      "execution_count": 14,
      "outputs": [
        {
          "output_type": "execute_result",
          "data": {
            "text/plain": [
              "4    883\n",
              "2     88\n",
              "5     46\n",
              "1     35\n",
              "0     30\n",
              "6     13\n",
              "3      8\n",
              "Name: cell_type_idx, dtype: int64"
            ]
          },
          "metadata": {
            "tags": []
          },
          "execution_count": 14
        }
      ]
    },
    {
      "cell_type": "code",
      "metadata": {
        "colab": {
          "base_uri": "https://localhost:8080/"
        },
        "id": "9SerSS8megQ1",
        "outputId": "af9e0c9e-7484-434e-b653-c37b34fbc57a"
      },
      "source": [
        "# This set will be df_original excluding all rows that are in the val set\n",
        "# This function identifies if an image is part of the train or val set.\n",
        "def get_val_rows(x):\n",
        "    # create a list of all the lesion_id's in the val set\n",
        "    val_list = list(df_val['image_id'])\n",
        "    if str(x) in val_list:\n",
        "        return 'val'\n",
        "    else:\n",
        "        return 'train'\n",
        "\n",
        "# identify train and val rows\n",
        "# create a new colum that is a copy of the image_id column\n",
        "df_original['train_or_val'] = df_original['image_id']\n",
        "# apply the function to this new column\n",
        "df_original['train_or_val'] = df_original['train_or_val'].apply(get_val_rows)\n",
        "# filter out train rows\n",
        "df_train = df_original[df_original['train_or_val'] == 'train']\n",
        "print(len(df_train))\n",
        "print(len(df_val))"
      ],
      "execution_count": 15,
      "outputs": [
        {
          "output_type": "stream",
          "text": [
            "8912\n",
            "1103\n"
          ],
          "name": "stdout"
        }
      ]
    },
    {
      "cell_type": "code",
      "metadata": {
        "colab": {
          "base_uri": "https://localhost:8080/"
        },
        "id": "SzvikaQueift",
        "outputId": "33ce987d-3bb8-4dae-fe1e-6a1e38f145c1"
      },
      "source": [
        "df_train['cell_type_idx'].value_counts()"
      ],
      "execution_count": 16,
      "outputs": [
        {
          "output_type": "execute_result",
          "data": {
            "text/plain": [
              "4    5822\n",
              "5    1067\n",
              "2    1011\n",
              "1     479\n",
              "0     297\n",
              "6     129\n",
              "3     107\n",
              "Name: cell_type_idx, dtype: int64"
            ]
          },
          "metadata": {
            "tags": []
          },
          "execution_count": 16
        }
      ]
    },
    {
      "cell_type": "code",
      "metadata": {
        "colab": {
          "base_uri": "https://localhost:8080/"
        },
        "id": "S9pAqOLHekZV",
        "outputId": "c54e9d64-4c02-4e53-cb7d-f12243ceb0fd"
      },
      "source": [
        "df_val['cell_type'].value_counts()"
      ],
      "execution_count": 17,
      "outputs": [
        {
          "output_type": "execute_result",
          "data": {
            "text/plain": [
              "Melanocytic nevi                  883\n",
              "Benign keratosis-like lesions      88\n",
              "Melanoma                           46\n",
              "Basal cell carcinoma               35\n",
              "Actinic keratoses                  30\n",
              "Vascular lesions                   13\n",
              "Dermatofibroma                      8\n",
              "Name: cell_type, dtype: int64"
            ]
          },
          "metadata": {
            "tags": []
          },
          "execution_count": 17
        }
      ]
    },
    {
      "cell_type": "code",
      "metadata": {
        "colab": {
          "base_uri": "https://localhost:8080/"
        },
        "id": "to63iOmbel-u",
        "outputId": "d57b1de2-e555-442e-9bc7-c57ccdfabcb1"
      },
      "source": [
        "# Copy fewer class to balance the number of 7 classes\n",
        "data_aug_rate = [15,10,5,50,0,40,5]\n",
        "for i in range(7):\n",
        "    if data_aug_rate[i]:\n",
        "        df_train=df_train.append([df_train.loc[df_train['cell_type_idx'] == i,:]]*(data_aug_rate[i]-1), ignore_index=True)\n",
        "df_train['cell_type'].value_counts()"
      ],
      "execution_count": 18,
      "outputs": [
        {
          "output_type": "execute_result",
          "data": {
            "text/plain": [
              "Melanoma                          42680\n",
              "Melanocytic nevi                   5822\n",
              "Dermatofibroma                     5350\n",
              "Benign keratosis-like lesions      5055\n",
              "Basal cell carcinoma               4790\n",
              "Actinic keratoses                  4455\n",
              "Vascular lesions                    645\n",
              "Name: cell_type, dtype: int64"
            ]
          },
          "metadata": {
            "tags": []
          },
          "execution_count": 18
        }
      ]
    },
    {
      "cell_type": "code",
      "metadata": {
        "id": "-gXIGKqden9f"
      },
      "source": [
        "# # We can split the test set again in a validation set and a true test set:\n",
        "# df_val, df_test = train_test_split(df_val, test_size=0.5)\n",
        "df_train = df_train.reset_index()\n",
        "df_val = df_val.reset_index()\n",
        "# df_test = df_test.reset_index()"
      ],
      "execution_count": 19,
      "outputs": []
    },
    {
      "cell_type": "code",
      "metadata": {
        "id": "YtAPW2Ovi9rf"
      },
      "source": [
        "def save_checkpoint(state, filename = \"checkpoints.pth.tar\"):\n",
        "  print(\"======> Saving Checkpoint.\")\n",
        "  torch.save(state, filename)\n",
        "  print(\"******************************************************\")"
      ],
      "execution_count": 20,
      "outputs": []
    },
    {
      "cell_type": "code",
      "metadata": {
        "id": "NtTUVJK-jxkm"
      },
      "source": [
        "def load_checkpoint(checkpoint):\n",
        "  print(\"=====> Loading Checkpoint.\")\n",
        "  model.load_state_dict(checkpoint['state_dict'])\n",
        "  optimizer.load_state_dict(checkpoint['optimizer'])\n",
        "  epoch.load_state_dict(checkpoint['epoch'])\n",
        "  loss_val.load_state_dict(checkpoint['loss_val'])\n",
        "  acc_val.load_state_dict(checkpoint['acc_val'])\n",
        "  loss_train.load_state_dict(checkpoint['loss_train'])\n",
        "  acc_train.load_state_dict(checkpoint['acc_train'])\n",
        "  best_val_acc.load_state_dict(checkpoint['best_val_acc'])\n",
        "  "
      ],
      "execution_count": 21,
      "outputs": []
    },
    {
      "cell_type": "markdown",
      "metadata": {
        "id": "YAzuFnwDImTX"
      },
      "source": [
        "**MODEL BUILDING**"
      ]
    },
    {
      "cell_type": "code",
      "metadata": {
        "id": "yuI1H-DoeqA9"
      },
      "source": [
        "# feature_extract is a boolean that defines if we are finetuning or feature extracting. \n",
        "# If feature_extract = False, the model is finetuned and all model parameters are updated. \n",
        "# If feature_extract = True, only the last layer parameters are updated, the others remain fixed.\n",
        "def set_parameter_requires_grad(model, feature_extracting):\n",
        "    if feature_extracting:\n",
        "        for param in model.parameters():\n",
        "            param.requires_grad = False"
      ],
      "execution_count": 22,
      "outputs": []
    },
    {
      "cell_type": "code",
      "metadata": {
        "id": "XgyANTmnerwV"
      },
      "source": [
        "def initialize_model(model_name, num_classes, feature_extract, use_pretrained=True):\n",
        "    # Initialize these variables which will be set in this if statement. Each of these\n",
        "    #   variables is model specific.\n",
        "    model_ft = None\n",
        "    input_size = 0\n",
        "\n",
        "    if model_name == \"resnet\":\n",
        "        \"\"\" Resnet18, resnet34, resnet50, resnet101\n",
        "        \"\"\"\n",
        "        model_ft = models.resnet18(pretrained=use_pretrained)\n",
        "        set_parameter_requires_grad(model_ft, feature_extract)\n",
        "        num_ftrs = model_ft.fc.in_features\n",
        "        model_ft.fc = nn.Linear(num_ftrs, num_classes)\n",
        "        input_size = 224\n",
        "\n",
        "\n",
        "    elif model_name == \"vgg\":\n",
        "        \"\"\" VGG11_bn\n",
        "        \"\"\"\n",
        "        model_ft = models.vgg11_bn(pretrained=use_pretrained)\n",
        "        set_parameter_requires_grad(model_ft, feature_extract)\n",
        "        num_ftrs = model_ft.classifier[6].in_features\n",
        "        model_ft.classifier[6] = nn.Linear(num_ftrs,num_classes)\n",
        "        input_size = 224\n",
        "\n",
        "\n",
        "    elif model_name == \"densenet\":\n",
        "        \"\"\" Densenet121\n",
        "        \"\"\"\n",
        "        model_ft = models.densenet121(pretrained=use_pretrained)\n",
        "        set_parameter_requires_grad(model_ft, feature_extract)\n",
        "        num_ftrs = model_ft.classifier.in_features\n",
        "        model_ft.classifier = nn.Linear(num_ftrs, num_classes)\n",
        "        input_size = 224\n",
        "\n",
        "    elif model_name == \"inception\":\n",
        "        \"\"\" Inception v3\n",
        "        \"\"\"\n",
        "        model_ft = models.inception_v3(pretrained=use_pretrained)\n",
        "        set_parameter_requires_grad(model_ft, feature_extract)\n",
        "        # Handle the auxilary net\n",
        "        num_ftrs = model_ft.AuxLogits.fc.in_features\n",
        "        model_ft.AuxLogits.fc = nn.Linear(num_ftrs, num_classes)\n",
        "        # Handle the primary net\n",
        "        num_ftrs = model_ft.fc.in_features\n",
        "        model_ft.fc = nn.Linear(num_ftrs,num_classes)\n",
        "        input_size = 299\n",
        "\n",
        "    else:\n",
        "        print(\"Invalid model name, exiting...\")\n",
        "        exit()\n",
        "    return model_ft, input_size"
      ],
      "execution_count": 23,
      "outputs": []
    },
    {
      "cell_type": "code",
      "metadata": {
        "colab": {
          "base_uri": "https://localhost:8080/",
          "height": 84,
          "referenced_widgets": [
            "300ecf90204445b3907ba4f1bf9578af",
            "62c6b60517d24e869cb9a4c182176a8a",
            "9039aa51186d4009a07d20e58b44db3f",
            "1feea44e50914598b8ce4bc9a8a0f4d2",
            "bb92195c2aed42f19eb664de0cc3a922",
            "123ce81425dd4bae8a5b9ea162d0cfa2",
            "636ef4edbdf74d768f066c09a9026d63",
            "8ed320d12b4f49c8b6794e19f4f7f4ae"
          ]
        },
        "id": "X-AUAsPzeucF",
        "outputId": "fb456896-5179-4f35-8e9e-411a66e7483e"
      },
      "source": [
        "# resnet,vgg,densenet,inception\n",
        "model_name = 'vgg'\n",
        "num_classes = 7\n",
        "feature_extract = False\n",
        "# Initialize the model for this run\n",
        "model_ft, input_size = initialize_model(model_name, num_classes, feature_extract, use_pretrained=True)\n",
        "# Define the device:\n",
        "device = torch.device('cuda:0')\n",
        "# Put the model on the device:\n",
        "model = model_ft.to(device)"
      ],
      "execution_count": 24,
      "outputs": [
        {
          "output_type": "stream",
          "text": [
            "Downloading: \"https://download.pytorch.org/models/vgg11_bn-6002323d.pth\" to /root/.cache/torch/hub/checkpoints/vgg11_bn-6002323d.pth\n"
          ],
          "name": "stderr"
        },
        {
          "output_type": "display_data",
          "data": {
            "application/vnd.jupyter.widget-view+json": {
              "model_id": "300ecf90204445b3907ba4f1bf9578af",
              "version_minor": 0,
              "version_major": 2
            },
            "text/plain": [
              "HBox(children=(FloatProgress(value=0.0, max=531503671.0), HTML(value='')))"
            ]
          },
          "metadata": {
            "tags": []
          }
        },
        {
          "output_type": "stream",
          "text": [
            "\n"
          ],
          "name": "stdout"
        }
      ]
    },
    {
      "cell_type": "code",
      "metadata": {
        "id": "IA2v6p-9ewIQ"
      },
      "source": [
        "# norm_mean = (0.49139968, 0.48215827, 0.44653124)\n",
        "# norm_std = (0.24703233, 0.24348505, 0.26158768)\n",
        "# define the transformation of the train images.\n",
        "train_transform = transforms.Compose([transforms.Resize((input_size,input_size)),transforms.RandomHorizontalFlip(),\n",
        "                                      transforms.RandomVerticalFlip(),transforms.RandomRotation(20),\n",
        "                                      transforms.ColorJitter(brightness=0.1, contrast=0.1, hue=0.1),\n",
        "                                        transforms.ToTensor(), transforms.Normalize(norm_mean, norm_std)])\n",
        "# define the transformation of the val images.\n",
        "val_transform = transforms.Compose([transforms.Resize((input_size,input_size)), transforms.ToTensor(),\n",
        "                                    transforms.Normalize(norm_mean, norm_std)])"
      ],
      "execution_count": 25,
      "outputs": []
    },
    {
      "cell_type": "code",
      "metadata": {
        "id": "vO6hKxMEeyfV"
      },
      "source": [
        "# Define a pytorch dataloader for this dataset\n",
        "class HAM10000(Dataset):\n",
        "    def __init__(self, df, transform=None):\n",
        "        self.df = df\n",
        "        self.transform = transform\n",
        "\n",
        "    def __len__(self):\n",
        "        return len(self.df)\n",
        "\n",
        "    def __getitem__(self, index):\n",
        "        # Load data and get label\n",
        "        X = Image.open(self.df['path'][index])\n",
        "        y = torch.tensor(int(self.df['cell_type_idx'][index]))\n",
        "\n",
        "        if self.transform:\n",
        "            X = self.transform(X)\n",
        "\n",
        "        return X, y"
      ],
      "execution_count": 26,
      "outputs": []
    },
    {
      "cell_type": "code",
      "metadata": {
        "id": "S5Nhwnuje0z_"
      },
      "source": [
        "# Define the training set using the table train_df and using our defined transitions (train_transform)\n",
        "training_set = HAM10000(df_train, transform=train_transform)\n",
        "train_loader = DataLoader(training_set, batch_size=64, shuffle=True, num_workers=4)\n",
        "# Same for the validation set:\n",
        "validation_set = HAM10000(df_val, transform=train_transform)\n",
        "val_loader = DataLoader(validation_set, batch_size=64, shuffle=False, num_workers=4)"
      ],
      "execution_count": 27,
      "outputs": []
    },
    {
      "cell_type": "code",
      "metadata": {
        "id": "mLTbU6XQe2oW"
      },
      "source": [
        "# we use Adam optimizer, use cross entropy loss as our loss function\n",
        "optimizer = optim.Adam(model.parameters(), lr=1e-5)\n",
        "criterion = nn.CrossEntropyLoss().to(device)"
      ],
      "execution_count": 28,
      "outputs": []
    },
    {
      "cell_type": "markdown",
      "metadata": {
        "id": "s7JpuA0nIsmd"
      },
      "source": [
        "**MODEL TRAINING**"
      ]
    },
    {
      "cell_type": "code",
      "metadata": {
        "id": "pz0DUP8se5HV"
      },
      "source": [
        "# this function is used during training process, to calculation the loss and accuracy\n",
        "class AverageMeter(object):\n",
        "    def __init__(self):\n",
        "        self.reset()\n",
        "\n",
        "    def reset(self):\n",
        "        self.val = 0\n",
        "        self.avg = 0\n",
        "        self.sum = 0\n",
        "        self.count = 0\n",
        "\n",
        "    def update(self, val, n=1):\n",
        "        self.val = val\n",
        "        self.sum += val * n\n",
        "        self.count += n\n",
        "        self.avg = self.sum / self.count"
      ],
      "execution_count": 29,
      "outputs": []
    },
    {
      "cell_type": "code",
      "metadata": {
        "id": "zMRYblHRe7gX"
      },
      "source": [
        "total_loss_train, total_acc_train = [],[]\n",
        "def train(train_loader, model, criterion, optimizer, epoch):\n",
        "    model.train()\n",
        "    train_loss = AverageMeter()\n",
        "    train_acc = AverageMeter()\n",
        "    curr_iter = (epoch - 1) * len(train_loader)\n",
        "    for i, data in enumerate(train_loader):\n",
        "        images, labels = data\n",
        "        N = images.size(0)\n",
        "        # print('image shape:',images.size(0), 'label shape',labels.size(0))\n",
        "        images = Variable(images).to(device)\n",
        "        labels = Variable(labels).to(device)\n",
        "\n",
        "        optimizer.zero_grad()\n",
        "        outputs = model(images)\n",
        "\n",
        "        loss = criterion(outputs, labels)\n",
        "        loss.backward()\n",
        "        optimizer.step()\n",
        "        prediction = outputs.max(1, keepdim=True)[1]\n",
        "        train_acc.update(prediction.eq(labels.view_as(prediction)).sum().item()/N)\n",
        "        train_loss.update(loss.item())\n",
        "        curr_iter += 1\n",
        "        if (i + 1) % 100 == 0:\n",
        "            print('[epoch %d], [iter %d / %d], [train loss %.5f], [train acc %.5f]' % (\n",
        "                epoch, i + 1, len(train_loader), train_loss.avg, train_acc.avg))\n",
        "            total_loss_train.append(train_loss.avg)\n",
        "            total_acc_train.append(train_acc.avg)\n",
        "    return train_loss.avg, train_acc.avg"
      ],
      "execution_count": 30,
      "outputs": []
    },
    {
      "cell_type": "code",
      "metadata": {
        "id": "l8ZgYEQOe9_R"
      },
      "source": [
        "def validate(val_loader, model, criterion, optimizer, epoch):\n",
        "    model.eval()\n",
        "    val_loss = AverageMeter()\n",
        "    val_acc = AverageMeter()\n",
        "    with torch.no_grad():\n",
        "        for i, data in enumerate(val_loader):\n",
        "            images, labels = data\n",
        "            N = images.size(0)\n",
        "            images = Variable(images).to(device)\n",
        "            labels = Variable(labels).to(device)\n",
        "\n",
        "            outputs = model(images)\n",
        "            prediction = outputs.max(1, keepdim=True)[1]\n",
        "\n",
        "            val_acc.update(prediction.eq(labels.view_as(prediction)).sum().item()/N)\n",
        "\n",
        "            val_loss.update(criterion(outputs, labels).item())\n",
        "\n",
        "    print('------------------------------------------------------------')\n",
        "    print('[epoch %d], [val loss %.5f], [val acc %.5f]' % (epoch, val_loss.avg, val_acc.avg))\n",
        "    print('------------------------------------------------------------')\n",
        "    return val_loss.avg, val_acc.avg"
      ],
      "execution_count": 31,
      "outputs": []
    },
    {
      "cell_type": "code",
      "metadata": {
        "id": "WbZ9NYfpRD0a"
      },
      "source": [
        ""
      ],
      "execution_count": 31,
      "outputs": []
    },
    {
      "cell_type": "code",
      "metadata": {
        "colab": {
          "base_uri": "https://localhost:8080/"
        },
        "id": "ahs1o0GUfAp1",
        "outputId": "489ab91d-eb08-47b1-8589-c99bfc0cece5"
      },
      "source": [
        "epoch_num = 25\n",
        "load_model = True\n",
        "best_val_acc = 0\n",
        "total_loss_val, total_acc_val = [],[]\n",
        "\n",
        "\n",
        "for epoch in range(1, epoch_num+1):\n",
        "\n",
        "    loss_train, acc_train = train(train_loader, model, criterion, optimizer, epoch)\n",
        "    loss_val, acc_val = validate(val_loader, model, criterion, optimizer, epoch)\n",
        "    total_loss_val.append(loss_val)\n",
        "    total_acc_val.append(acc_val)\n",
        "    if acc_val > best_val_acc:\n",
        "        best_val_acc = acc_val\n",
        "        print('*****************************************************')\n",
        "        print('best record: [epoch %d], [val loss %.5f], [val acc %.5f]' % (epoch, loss_val, acc_val))\n",
        "        print('*****************************************************')"
      ],
      "execution_count": 32,
      "outputs": [
        {
          "output_type": "stream",
          "text": [
            "[epoch 1], [iter 100 / 1075], [train loss 1.21743], [train acc 0.60437]\n",
            "[epoch 1], [iter 200 / 1075], [train loss 1.06149], [train acc 0.65320]\n",
            "[epoch 1], [iter 300 / 1075], [train loss 0.96130], [train acc 0.68500]\n",
            "[epoch 1], [iter 400 / 1075], [train loss 0.89064], [train acc 0.70730]\n",
            "[epoch 1], [iter 500 / 1075], [train loss 0.83632], [train acc 0.72481]\n",
            "[epoch 1], [iter 600 / 1075], [train loss 0.79050], [train acc 0.73883]\n",
            "[epoch 1], [iter 700 / 1075], [train loss 0.75528], [train acc 0.75002]\n",
            "[epoch 1], [iter 800 / 1075], [train loss 0.72060], [train acc 0.76148]\n",
            "[epoch 1], [iter 900 / 1075], [train loss 0.69185], [train acc 0.77104]\n",
            "[epoch 1], [iter 1000 / 1075], [train loss 0.66593], [train acc 0.77947]\n",
            "------------------------------------------------------------\n",
            "[epoch 1], [val loss 0.54388], [val acc 0.79919]\n",
            "------------------------------------------------------------\n",
            "*****************************************************\n",
            "best record: [epoch 1], [val loss 0.54388], [val acc 0.79919]\n",
            "*****************************************************\n",
            "[epoch 2], [iter 100 / 1075], [train loss 0.37876], [train acc 0.87328]\n",
            "[epoch 2], [iter 200 / 1075], [train loss 0.37234], [train acc 0.87477]\n",
            "[epoch 2], [iter 300 / 1075], [train loss 0.37077], [train acc 0.87625]\n",
            "[epoch 2], [iter 400 / 1075], [train loss 0.36178], [train acc 0.87887]\n",
            "[epoch 2], [iter 500 / 1075], [train loss 0.35596], [train acc 0.88106]\n",
            "[epoch 2], [iter 600 / 1075], [train loss 0.34824], [train acc 0.88346]\n",
            "[epoch 2], [iter 700 / 1075], [train loss 0.34229], [train acc 0.88605]\n",
            "[epoch 2], [iter 800 / 1075], [train loss 0.33743], [train acc 0.88768]\n",
            "[epoch 2], [iter 900 / 1075], [train loss 0.33060], [train acc 0.89023]\n",
            "[epoch 2], [iter 1000 / 1075], [train loss 0.32555], [train acc 0.89209]\n",
            "------------------------------------------------------------\n",
            "[epoch 2], [val loss 0.47556], [val acc 0.83872]\n",
            "------------------------------------------------------------\n",
            "*****************************************************\n",
            "best record: [epoch 2], [val loss 0.47556], [val acc 0.83872]\n",
            "*****************************************************\n",
            "[epoch 3], [iter 100 / 1075], [train loss 0.25078], [train acc 0.91609]\n",
            "[epoch 3], [iter 200 / 1075], [train loss 0.24533], [train acc 0.91898]\n",
            "[epoch 3], [iter 300 / 1075], [train loss 0.24543], [train acc 0.91969]\n",
            "[epoch 3], [iter 400 / 1075], [train loss 0.23955], [train acc 0.92168]\n",
            "[epoch 3], [iter 500 / 1075], [train loss 0.23714], [train acc 0.92281]\n",
            "[epoch 3], [iter 600 / 1075], [train loss 0.23152], [train acc 0.92503]\n",
            "[epoch 3], [iter 700 / 1075], [train loss 0.22964], [train acc 0.92556]\n",
            "[epoch 3], [iter 800 / 1075], [train loss 0.22525], [train acc 0.92697]\n",
            "[epoch 3], [iter 900 / 1075], [train loss 0.22310], [train acc 0.92804]\n",
            "[epoch 3], [iter 1000 / 1075], [train loss 0.21941], [train acc 0.92919]\n",
            "------------------------------------------------------------\n",
            "[epoch 3], [val loss 0.39283], [val acc 0.85891]\n",
            "------------------------------------------------------------\n",
            "*****************************************************\n",
            "best record: [epoch 3], [val loss 0.39283], [val acc 0.85891]\n",
            "*****************************************************\n",
            "[epoch 4], [iter 100 / 1075], [train loss 0.18268], [train acc 0.93984]\n",
            "[epoch 4], [iter 200 / 1075], [train loss 0.18130], [train acc 0.94039]\n",
            "[epoch 4], [iter 300 / 1075], [train loss 0.17742], [train acc 0.94234]\n",
            "[epoch 4], [iter 400 / 1075], [train loss 0.17106], [train acc 0.94457]\n",
            "[epoch 4], [iter 500 / 1075], [train loss 0.17039], [train acc 0.94472]\n",
            "[epoch 4], [iter 600 / 1075], [train loss 0.16617], [train acc 0.94620]\n",
            "[epoch 4], [iter 700 / 1075], [train loss 0.16433], [train acc 0.94690]\n",
            "[epoch 4], [iter 800 / 1075], [train loss 0.16210], [train acc 0.94768]\n",
            "[epoch 4], [iter 900 / 1075], [train loss 0.16139], [train acc 0.94811]\n",
            "[epoch 4], [iter 1000 / 1075], [train loss 0.15929], [train acc 0.94897]\n",
            "------------------------------------------------------------\n",
            "[epoch 4], [val loss 0.34281], [val acc 0.88929]\n",
            "------------------------------------------------------------\n",
            "*****************************************************\n",
            "best record: [epoch 4], [val loss 0.34281], [val acc 0.88929]\n",
            "*****************************************************\n",
            "[epoch 5], [iter 100 / 1075], [train loss 0.13308], [train acc 0.95891]\n",
            "[epoch 5], [iter 200 / 1075], [train loss 0.13073], [train acc 0.95805]\n",
            "[epoch 5], [iter 300 / 1075], [train loss 0.12869], [train acc 0.95964]\n",
            "[epoch 5], [iter 400 / 1075], [train loss 0.12778], [train acc 0.95984]\n",
            "[epoch 5], [iter 500 / 1075], [train loss 0.12650], [train acc 0.95984]\n",
            "[epoch 5], [iter 600 / 1075], [train loss 0.12548], [train acc 0.96021]\n",
            "[epoch 5], [iter 700 / 1075], [train loss 0.12435], [train acc 0.96060]\n",
            "[epoch 5], [iter 800 / 1075], [train loss 0.12129], [train acc 0.96146]\n",
            "[epoch 5], [iter 900 / 1075], [train loss 0.12006], [train acc 0.96165]\n",
            "[epoch 5], [iter 1000 / 1075], [train loss 0.11961], [train acc 0.96192]\n",
            "------------------------------------------------------------\n",
            "[epoch 5], [val loss 0.35262], [val acc 0.89126]\n",
            "------------------------------------------------------------\n",
            "*****************************************************\n",
            "best record: [epoch 5], [val loss 0.35262], [val acc 0.89126]\n",
            "*****************************************************\n",
            "[epoch 6], [iter 100 / 1075], [train loss 0.11009], [train acc 0.96469]\n",
            "[epoch 6], [iter 200 / 1075], [train loss 0.10565], [train acc 0.96688]\n",
            "[epoch 6], [iter 300 / 1075], [train loss 0.10184], [train acc 0.96807]\n",
            "[epoch 6], [iter 400 / 1075], [train loss 0.09954], [train acc 0.96871]\n",
            "[epoch 6], [iter 500 / 1075], [train loss 0.09711], [train acc 0.96919]\n",
            "[epoch 6], [iter 600 / 1075], [train loss 0.09548], [train acc 0.96956]\n",
            "[epoch 6], [iter 700 / 1075], [train loss 0.09500], [train acc 0.96960]\n",
            "[epoch 6], [iter 800 / 1075], [train loss 0.09416], [train acc 0.97010]\n",
            "[epoch 6], [iter 900 / 1075], [train loss 0.09382], [train acc 0.97007]\n",
            "[epoch 6], [iter 1000 / 1075], [train loss 0.09339], [train acc 0.97036]\n",
            "------------------------------------------------------------\n",
            "[epoch 6], [val loss 0.36238], [val acc 0.89016]\n",
            "------------------------------------------------------------\n",
            "[epoch 7], [iter 100 / 1075], [train loss 0.07413], [train acc 0.97609]\n",
            "[epoch 7], [iter 200 / 1075], [train loss 0.07721], [train acc 0.97516]\n",
            "[epoch 7], [iter 300 / 1075], [train loss 0.07714], [train acc 0.97510]\n",
            "[epoch 7], [iter 400 / 1075], [train loss 0.07871], [train acc 0.97496]\n",
            "[epoch 7], [iter 500 / 1075], [train loss 0.07816], [train acc 0.97497]\n",
            "[epoch 7], [iter 600 / 1075], [train loss 0.07810], [train acc 0.97471]\n",
            "[epoch 7], [iter 700 / 1075], [train loss 0.07652], [train acc 0.97527]\n",
            "[epoch 7], [iter 800 / 1075], [train loss 0.07637], [train acc 0.97525]\n",
            "[epoch 7], [iter 900 / 1075], [train loss 0.07567], [train acc 0.97575]\n",
            "[epoch 7], [iter 1000 / 1075], [train loss 0.07495], [train acc 0.97592]\n",
            "------------------------------------------------------------\n",
            "[epoch 7], [val loss 0.39839], [val acc 0.90168]\n",
            "------------------------------------------------------------\n",
            "*****************************************************\n",
            "best record: [epoch 7], [val loss 0.39839], [val acc 0.90168]\n",
            "*****************************************************\n",
            "[epoch 8], [iter 100 / 1075], [train loss 0.06760], [train acc 0.97703]\n",
            "[epoch 8], [iter 200 / 1075], [train loss 0.06433], [train acc 0.97813]\n",
            "[epoch 8], [iter 300 / 1075], [train loss 0.06161], [train acc 0.97891]\n",
            "[epoch 8], [iter 400 / 1075], [train loss 0.06118], [train acc 0.97906]\n",
            "[epoch 8], [iter 500 / 1075], [train loss 0.06080], [train acc 0.97953]\n",
            "[epoch 8], [iter 600 / 1075], [train loss 0.06202], [train acc 0.97927]\n",
            "[epoch 8], [iter 700 / 1075], [train loss 0.06163], [train acc 0.97935]\n",
            "[epoch 8], [iter 800 / 1075], [train loss 0.06224], [train acc 0.97943]\n",
            "[epoch 8], [iter 900 / 1075], [train loss 0.06220], [train acc 0.97958]\n",
            "[epoch 8], [iter 1000 / 1075], [train loss 0.06109], [train acc 0.97997]\n",
            "------------------------------------------------------------\n",
            "[epoch 8], [val loss 0.34961], [val acc 0.89560]\n",
            "------------------------------------------------------------\n",
            "[epoch 9], [iter 100 / 1075], [train loss 0.04287], [train acc 0.98719]\n",
            "[epoch 9], [iter 200 / 1075], [train loss 0.04842], [train acc 0.98414]\n",
            "[epoch 9], [iter 300 / 1075], [train loss 0.04809], [train acc 0.98443]\n",
            "[epoch 9], [iter 400 / 1075], [train loss 0.04896], [train acc 0.98406]\n",
            "[epoch 9], [iter 500 / 1075], [train loss 0.04810], [train acc 0.98413]\n",
            "[epoch 9], [iter 600 / 1075], [train loss 0.04890], [train acc 0.98398]\n",
            "[epoch 9], [iter 700 / 1075], [train loss 0.04947], [train acc 0.98404]\n",
            "[epoch 9], [iter 800 / 1075], [train loss 0.04910], [train acc 0.98412]\n",
            "[epoch 9], [iter 900 / 1075], [train loss 0.04917], [train acc 0.98424]\n",
            "[epoch 9], [iter 1000 / 1075], [train loss 0.04974], [train acc 0.98398]\n",
            "------------------------------------------------------------\n",
            "[epoch 9], [val loss 0.36182], [val acc 0.91383]\n",
            "------------------------------------------------------------\n",
            "*****************************************************\n",
            "best record: [epoch 9], [val loss 0.36182], [val acc 0.91383]\n",
            "*****************************************************\n",
            "[epoch 10], [iter 100 / 1075], [train loss 0.04975], [train acc 0.98313]\n",
            "[epoch 10], [iter 200 / 1075], [train loss 0.04494], [train acc 0.98539]\n",
            "[epoch 10], [iter 300 / 1075], [train loss 0.04515], [train acc 0.98547]\n",
            "[epoch 10], [iter 400 / 1075], [train loss 0.04430], [train acc 0.98574]\n",
            "[epoch 10], [iter 500 / 1075], [train loss 0.04515], [train acc 0.98547]\n",
            "[epoch 10], [iter 600 / 1075], [train loss 0.04443], [train acc 0.98568]\n",
            "[epoch 10], [iter 700 / 1075], [train loss 0.04339], [train acc 0.98605]\n",
            "[epoch 10], [iter 800 / 1075], [train loss 0.04331], [train acc 0.98602]\n",
            "[epoch 10], [iter 900 / 1075], [train loss 0.04388], [train acc 0.98585]\n",
            "[epoch 10], [iter 1000 / 1075], [train loss 0.04340], [train acc 0.98611]\n",
            "------------------------------------------------------------\n",
            "[epoch 10], [val loss 0.28800], [val acc 0.92425]\n",
            "------------------------------------------------------------\n",
            "*****************************************************\n",
            "best record: [epoch 10], [val loss 0.28800], [val acc 0.92425]\n",
            "*****************************************************\n",
            "[epoch 11], [iter 100 / 1075], [train loss 0.03706], [train acc 0.98719]\n",
            "[epoch 11], [iter 200 / 1075], [train loss 0.03850], [train acc 0.98695]\n",
            "[epoch 11], [iter 300 / 1075], [train loss 0.04036], [train acc 0.98687]\n",
            "[epoch 11], [iter 400 / 1075], [train loss 0.03892], [train acc 0.98754]\n",
            "[epoch 11], [iter 500 / 1075], [train loss 0.03931], [train acc 0.98725]\n",
            "[epoch 11], [iter 600 / 1075], [train loss 0.03832], [train acc 0.98742]\n",
            "[epoch 11], [iter 700 / 1075], [train loss 0.03789], [train acc 0.98750]\n",
            "[epoch 11], [iter 800 / 1075], [train loss 0.03754], [train acc 0.98768]\n",
            "[epoch 11], [iter 900 / 1075], [train loss 0.03808], [train acc 0.98760]\n",
            "[epoch 11], [iter 1000 / 1075], [train loss 0.03754], [train acc 0.98773]\n",
            "------------------------------------------------------------\n",
            "[epoch 11], [val loss 0.35335], [val acc 0.92946]\n",
            "------------------------------------------------------------\n",
            "*****************************************************\n",
            "best record: [epoch 11], [val loss 0.35335], [val acc 0.92946]\n",
            "*****************************************************\n",
            "[epoch 12], [iter 100 / 1075], [train loss 0.03785], [train acc 0.98875]\n",
            "[epoch 12], [iter 200 / 1075], [train loss 0.03490], [train acc 0.98875]\n",
            "[epoch 12], [iter 300 / 1075], [train loss 0.03269], [train acc 0.98922]\n",
            "[epoch 12], [iter 400 / 1075], [train loss 0.03180], [train acc 0.98953]\n",
            "[epoch 12], [iter 500 / 1075], [train loss 0.03240], [train acc 0.98941]\n",
            "[epoch 12], [iter 600 / 1075], [train loss 0.03351], [train acc 0.98927]\n",
            "[epoch 12], [iter 700 / 1075], [train loss 0.03275], [train acc 0.98960]\n",
            "[epoch 12], [iter 800 / 1075], [train loss 0.03228], [train acc 0.98977]\n",
            "[epoch 12], [iter 900 / 1075], [train loss 0.03200], [train acc 0.98986]\n",
            "[epoch 12], [iter 1000 / 1075], [train loss 0.03157], [train acc 0.99005]\n",
            "------------------------------------------------------------\n",
            "[epoch 12], [val loss 0.36457], [val acc 0.91470]\n",
            "------------------------------------------------------------\n",
            "[epoch 13], [iter 100 / 1075], [train loss 0.02837], [train acc 0.99141]\n",
            "[epoch 13], [iter 200 / 1075], [train loss 0.03153], [train acc 0.98945]\n",
            "[epoch 13], [iter 300 / 1075], [train loss 0.02992], [train acc 0.99036]\n",
            "[epoch 13], [iter 400 / 1075], [train loss 0.03011], [train acc 0.99039]\n",
            "[epoch 13], [iter 500 / 1075], [train loss 0.02954], [train acc 0.99062]\n",
            "[epoch 13], [iter 600 / 1075], [train loss 0.02961], [train acc 0.99065]\n",
            "[epoch 13], [iter 700 / 1075], [train loss 0.02933], [train acc 0.99087]\n",
            "[epoch 13], [iter 800 / 1075], [train loss 0.02923], [train acc 0.99090]\n",
            "[epoch 13], [iter 900 / 1075], [train loss 0.02903], [train acc 0.99092]\n",
            "[epoch 13], [iter 1000 / 1075], [train loss 0.02910], [train acc 0.99094]\n",
            "------------------------------------------------------------\n",
            "[epoch 13], [val loss 0.42087], [val acc 0.90949]\n",
            "------------------------------------------------------------\n",
            "[epoch 14], [iter 100 / 1075], [train loss 0.02685], [train acc 0.99172]\n",
            "[epoch 14], [iter 200 / 1075], [train loss 0.02856], [train acc 0.99070]\n",
            "[epoch 14], [iter 300 / 1075], [train loss 0.02751], [train acc 0.99104]\n",
            "[epoch 14], [iter 400 / 1075], [train loss 0.02712], [train acc 0.99152]\n",
            "[epoch 14], [iter 500 / 1075], [train loss 0.02597], [train acc 0.99175]\n",
            "[epoch 14], [iter 600 / 1075], [train loss 0.02563], [train acc 0.99190]\n",
            "[epoch 14], [iter 700 / 1075], [train loss 0.02551], [train acc 0.99196]\n",
            "[epoch 14], [iter 800 / 1075], [train loss 0.02510], [train acc 0.99221]\n",
            "[epoch 14], [iter 900 / 1075], [train loss 0.02496], [train acc 0.99210]\n",
            "[epoch 14], [iter 1000 / 1075], [train loss 0.02453], [train acc 0.99211]\n",
            "------------------------------------------------------------\n",
            "[epoch 14], [val loss 0.35086], [val acc 0.91904]\n",
            "------------------------------------------------------------\n",
            "[epoch 15], [iter 100 / 1075], [train loss 0.02538], [train acc 0.99156]\n",
            "[epoch 15], [iter 200 / 1075], [train loss 0.02373], [train acc 0.99234]\n",
            "[epoch 15], [iter 300 / 1075], [train loss 0.02305], [train acc 0.99229]\n",
            "[epoch 15], [iter 400 / 1075], [train loss 0.02228], [train acc 0.99238]\n",
            "[epoch 15], [iter 500 / 1075], [train loss 0.02246], [train acc 0.99241]\n",
            "[epoch 15], [iter 600 / 1075], [train loss 0.02238], [train acc 0.99242]\n",
            "[epoch 15], [iter 700 / 1075], [train loss 0.02200], [train acc 0.99261]\n",
            "[epoch 15], [iter 800 / 1075], [train loss 0.02170], [train acc 0.99281]\n",
            "[epoch 15], [iter 900 / 1075], [train loss 0.02146], [train acc 0.99292]\n",
            "[epoch 15], [iter 1000 / 1075], [train loss 0.02208], [train acc 0.99270]\n",
            "------------------------------------------------------------\n",
            "[epoch 15], [val loss 0.44849], [val acc 0.91644]\n",
            "------------------------------------------------------------\n",
            "[epoch 16], [iter 100 / 1075], [train loss 0.02143], [train acc 0.99297]\n",
            "[epoch 16], [iter 200 / 1075], [train loss 0.01911], [train acc 0.99352]\n",
            "[epoch 16], [iter 300 / 1075], [train loss 0.01912], [train acc 0.99349]\n",
            "[epoch 16], [iter 400 / 1075], [train loss 0.01923], [train acc 0.99359]\n",
            "[epoch 16], [iter 500 / 1075], [train loss 0.01898], [train acc 0.99366]\n",
            "[epoch 16], [iter 600 / 1075], [train loss 0.01843], [train acc 0.99393]\n",
            "[epoch 16], [iter 700 / 1075], [train loss 0.01910], [train acc 0.99350]\n",
            "[epoch 16], [iter 800 / 1075], [train loss 0.01933], [train acc 0.99348]\n",
            "[epoch 16], [iter 900 / 1075], [train loss 0.01972], [train acc 0.99337]\n",
            "[epoch 16], [iter 1000 / 1075], [train loss 0.01958], [train acc 0.99342]\n",
            "------------------------------------------------------------\n",
            "[epoch 16], [val loss 0.39106], [val acc 0.92425]\n",
            "------------------------------------------------------------\n",
            "[epoch 17], [iter 100 / 1075], [train loss 0.01788], [train acc 0.99438]\n",
            "[epoch 17], [iter 200 / 1075], [train loss 0.01707], [train acc 0.99438]\n",
            "[epoch 17], [iter 300 / 1075], [train loss 0.01857], [train acc 0.99396]\n",
            "[epoch 17], [iter 400 / 1075], [train loss 0.01912], [train acc 0.99379]\n",
            "[epoch 17], [iter 500 / 1075], [train loss 0.01851], [train acc 0.99391]\n",
            "[epoch 17], [iter 600 / 1075], [train loss 0.01927], [train acc 0.99367]\n",
            "[epoch 17], [iter 700 / 1075], [train loss 0.01941], [train acc 0.99357]\n",
            "[epoch 17], [iter 800 / 1075], [train loss 0.01992], [train acc 0.99346]\n",
            "[epoch 17], [iter 900 / 1075], [train loss 0.01978], [train acc 0.99340]\n",
            "[epoch 17], [iter 1000 / 1075], [train loss 0.01931], [train acc 0.99362]\n",
            "------------------------------------------------------------\n",
            "[epoch 17], [val loss 0.39218], [val acc 0.91904]\n",
            "------------------------------------------------------------\n",
            "[epoch 18], [iter 100 / 1075], [train loss 0.01318], [train acc 0.99641]\n",
            "[epoch 18], [iter 200 / 1075], [train loss 0.01670], [train acc 0.99531]\n",
            "[epoch 18], [iter 300 / 1075], [train loss 0.01735], [train acc 0.99495]\n",
            "[epoch 18], [iter 400 / 1075], [train loss 0.01595], [train acc 0.99531]\n",
            "[epoch 18], [iter 500 / 1075], [train loss 0.01547], [train acc 0.99550]\n",
            "[epoch 18], [iter 600 / 1075], [train loss 0.01561], [train acc 0.99552]\n",
            "[epoch 18], [iter 700 / 1075], [train loss 0.01563], [train acc 0.99540]\n",
            "[epoch 18], [iter 800 / 1075], [train loss 0.01562], [train acc 0.99541]\n",
            "[epoch 18], [iter 900 / 1075], [train loss 0.01584], [train acc 0.99517]\n",
            "[epoch 18], [iter 1000 / 1075], [train loss 0.01568], [train acc 0.99516]\n",
            "------------------------------------------------------------\n",
            "[epoch 18], [val loss 0.43837], [val acc 0.92251]\n",
            "------------------------------------------------------------\n",
            "[epoch 19], [iter 100 / 1075], [train loss 0.01615], [train acc 0.99547]\n",
            "[epoch 19], [iter 200 / 1075], [train loss 0.01655], [train acc 0.99508]\n",
            "[epoch 19], [iter 300 / 1075], [train loss 0.01628], [train acc 0.99495]\n",
            "[epoch 19], [iter 400 / 1075], [train loss 0.01572], [train acc 0.99512]\n",
            "[epoch 19], [iter 500 / 1075], [train loss 0.01601], [train acc 0.99506]\n",
            "[epoch 19], [iter 600 / 1075], [train loss 0.01630], [train acc 0.99492]\n",
            "[epoch 19], [iter 700 / 1075], [train loss 0.01557], [train acc 0.99504]\n",
            "[epoch 19], [iter 800 / 1075], [train loss 0.01554], [train acc 0.99506]\n",
            "[epoch 19], [iter 900 / 1075], [train loss 0.01540], [train acc 0.99510]\n",
            "[epoch 19], [iter 1000 / 1075], [train loss 0.01545], [train acc 0.99500]\n",
            "------------------------------------------------------------\n",
            "[epoch 19], [val loss 0.37011], [val acc 0.91991]\n",
            "------------------------------------------------------------\n",
            "[epoch 20], [iter 100 / 1075], [train loss 0.01692], [train acc 0.99500]\n",
            "[epoch 20], [iter 200 / 1075], [train loss 0.01606], [train acc 0.99453]\n",
            "[epoch 20], [iter 300 / 1075], [train loss 0.01487], [train acc 0.99521]\n",
            "[epoch 20], [iter 400 / 1075], [train loss 0.01423], [train acc 0.99531]\n",
            "[epoch 20], [iter 500 / 1075], [train loss 0.01457], [train acc 0.99522]\n",
            "[epoch 20], [iter 600 / 1075], [train loss 0.01457], [train acc 0.99510]\n",
            "[epoch 20], [iter 700 / 1075], [train loss 0.01474], [train acc 0.99516]\n",
            "[epoch 20], [iter 800 / 1075], [train loss 0.01440], [train acc 0.99525]\n",
            "[epoch 20], [iter 900 / 1075], [train loss 0.01455], [train acc 0.99521]\n",
            "[epoch 20], [iter 1000 / 1075], [train loss 0.01441], [train acc 0.99530]\n",
            "------------------------------------------------------------\n",
            "[epoch 20], [val loss 0.36576], [val acc 0.92251]\n",
            "------------------------------------------------------------\n",
            "[epoch 21], [iter 100 / 1075], [train loss 0.00939], [train acc 0.99641]\n",
            "[epoch 21], [iter 200 / 1075], [train loss 0.01207], [train acc 0.99633]\n",
            "[epoch 21], [iter 300 / 1075], [train loss 0.01231], [train acc 0.99635]\n",
            "[epoch 21], [iter 400 / 1075], [train loss 0.01288], [train acc 0.99629]\n",
            "[epoch 21], [iter 500 / 1075], [train loss 0.01251], [train acc 0.99638]\n",
            "[epoch 21], [iter 600 / 1075], [train loss 0.01245], [train acc 0.99643]\n",
            "[epoch 21], [iter 700 / 1075], [train loss 0.01281], [train acc 0.99625]\n",
            "[epoch 21], [iter 800 / 1075], [train loss 0.01276], [train acc 0.99623]\n",
            "[epoch 21], [iter 900 / 1075], [train loss 0.01284], [train acc 0.99622]\n",
            "[epoch 21], [iter 1000 / 1075], [train loss 0.01310], [train acc 0.99606]\n",
            "------------------------------------------------------------\n",
            "[epoch 21], [val loss 0.37919], [val acc 0.92859]\n",
            "------------------------------------------------------------\n",
            "[epoch 22], [iter 100 / 1075], [train loss 0.01418], [train acc 0.99453]\n",
            "[epoch 22], [iter 200 / 1075], [train loss 0.01265], [train acc 0.99547]\n",
            "[epoch 22], [iter 300 / 1075], [train loss 0.01267], [train acc 0.99552]\n",
            "[epoch 22], [iter 400 / 1075], [train loss 0.01313], [train acc 0.99527]\n",
            "[epoch 22], [iter 500 / 1075], [train loss 0.01255], [train acc 0.99553]\n",
            "[epoch 22], [iter 600 / 1075], [train loss 0.01267], [train acc 0.99560]\n",
            "[epoch 22], [iter 700 / 1075], [train loss 0.01227], [train acc 0.99576]\n",
            "[epoch 22], [iter 800 / 1075], [train loss 0.01222], [train acc 0.99570]\n",
            "[epoch 22], [iter 900 / 1075], [train loss 0.01186], [train acc 0.99585]\n",
            "[epoch 22], [iter 1000 / 1075], [train loss 0.01222], [train acc 0.99575]\n",
            "------------------------------------------------------------\n",
            "[epoch 22], [val loss 0.38853], [val acc 0.92772]\n",
            "------------------------------------------------------------\n",
            "[epoch 23], [iter 100 / 1075], [train loss 0.01105], [train acc 0.99641]\n",
            "[epoch 23], [iter 200 / 1075], [train loss 0.01153], [train acc 0.99625]\n",
            "[epoch 23], [iter 300 / 1075], [train loss 0.01189], [train acc 0.99599]\n",
            "[epoch 23], [iter 400 / 1075], [train loss 0.01262], [train acc 0.99582]\n",
            "[epoch 23], [iter 500 / 1075], [train loss 0.01212], [train acc 0.99597]\n",
            "[epoch 23], [iter 600 / 1075], [train loss 0.01223], [train acc 0.99589]\n",
            "[epoch 23], [iter 700 / 1075], [train loss 0.01192], [train acc 0.99594]\n",
            "[epoch 23], [iter 800 / 1075], [train loss 0.01196], [train acc 0.99594]\n",
            "[epoch 23], [iter 900 / 1075], [train loss 0.01233], [train acc 0.99590]\n",
            "[epoch 23], [iter 1000 / 1075], [train loss 0.01212], [train acc 0.99597]\n",
            "------------------------------------------------------------\n",
            "[epoch 23], [val loss 0.49614], [val acc 0.91557]\n",
            "------------------------------------------------------------\n",
            "[epoch 24], [iter 100 / 1075], [train loss 0.00784], [train acc 0.99766]\n",
            "[epoch 24], [iter 200 / 1075], [train loss 0.00816], [train acc 0.99758]\n",
            "[epoch 24], [iter 300 / 1075], [train loss 0.00740], [train acc 0.99760]\n",
            "[epoch 24], [iter 400 / 1075], [train loss 0.00803], [train acc 0.99738]\n",
            "[epoch 24], [iter 500 / 1075], [train loss 0.00833], [train acc 0.99731]\n",
            "[epoch 24], [iter 600 / 1075], [train loss 0.00878], [train acc 0.99714]\n",
            "[epoch 24], [iter 700 / 1075], [train loss 0.00968], [train acc 0.99687]\n",
            "[epoch 24], [iter 800 / 1075], [train loss 0.01029], [train acc 0.99658]\n",
            "[epoch 24], [iter 900 / 1075], [train loss 0.01022], [train acc 0.99665]\n",
            "[epoch 24], [iter 1000 / 1075], [train loss 0.01001], [train acc 0.99670]\n",
            "------------------------------------------------------------\n",
            "[epoch 24], [val loss 0.44778], [val acc 0.91383]\n",
            "------------------------------------------------------------\n",
            "[epoch 25], [iter 100 / 1075], [train loss 0.00710], [train acc 0.99797]\n",
            "[epoch 25], [iter 200 / 1075], [train loss 0.00744], [train acc 0.99781]\n",
            "[epoch 25], [iter 300 / 1075], [train loss 0.00793], [train acc 0.99745]\n",
            "[epoch 25], [iter 400 / 1075], [train loss 0.00828], [train acc 0.99730]\n",
            "[epoch 25], [iter 500 / 1075], [train loss 0.00816], [train acc 0.99741]\n",
            "[epoch 25], [iter 600 / 1075], [train loss 0.00834], [train acc 0.99737]\n",
            "[epoch 25], [iter 700 / 1075], [train loss 0.00883], [train acc 0.99725]\n",
            "[epoch 25], [iter 800 / 1075], [train loss 0.00891], [train acc 0.99721]\n",
            "[epoch 25], [iter 900 / 1075], [train loss 0.00925], [train acc 0.99712]\n",
            "[epoch 25], [iter 1000 / 1075], [train loss 0.00926], [train acc 0.99705]\n",
            "------------------------------------------------------------\n",
            "[epoch 25], [val loss 0.48758], [val acc 0.92078]\n",
            "------------------------------------------------------------\n"
          ],
          "name": "stdout"
        }
      ]
    },
    {
      "cell_type": "code",
      "metadata": {
        "id": "KrO4-EX8P1Ni",
        "colab": {
          "base_uri": "https://localhost:8080/",
          "height": 316
        },
        "outputId": "4fc15ca2-b1b4-4c88-ae77-fd404f62d1ec"
      },
      "source": [
        "torch.save(model, '/content/drive/MyDrive/input/modelbestnow.h5')"
      ],
      "execution_count": 33,
      "outputs": [
        {
          "output_type": "error",
          "ename": "FileNotFoundError",
          "evalue": "ignored",
          "traceback": [
            "\u001b[0;31m---------------------------------------------------------------------------\u001b[0m",
            "\u001b[0;31mFileNotFoundError\u001b[0m                         Traceback (most recent call last)",
            "\u001b[0;32m<ipython-input-33-549f6ef9c791>\u001b[0m in \u001b[0;36m<module>\u001b[0;34m()\u001b[0m\n\u001b[0;32m----> 1\u001b[0;31m \u001b[0mtorch\u001b[0m\u001b[0;34m.\u001b[0m\u001b[0msave\u001b[0m\u001b[0;34m(\u001b[0m\u001b[0mmodel\u001b[0m\u001b[0;34m,\u001b[0m \u001b[0;34m'/content/drive/MyDrive/input/modelbestnow.h5'\u001b[0m\u001b[0;34m)\u001b[0m\u001b[0;34m\u001b[0m\u001b[0;34m\u001b[0m\u001b[0m\n\u001b[0m",
            "\u001b[0;32m/usr/local/lib/python3.6/dist-packages/torch/serialization.py\u001b[0m in \u001b[0;36msave\u001b[0;34m(obj, f, pickle_module, pickle_protocol, _use_new_zipfile_serialization)\u001b[0m\n\u001b[1;32m    367\u001b[0m     \u001b[0m_check_dill_version\u001b[0m\u001b[0;34m(\u001b[0m\u001b[0mpickle_module\u001b[0m\u001b[0;34m)\u001b[0m\u001b[0;34m\u001b[0m\u001b[0;34m\u001b[0m\u001b[0m\n\u001b[1;32m    368\u001b[0m \u001b[0;34m\u001b[0m\u001b[0m\n\u001b[0;32m--> 369\u001b[0;31m     \u001b[0;32mwith\u001b[0m \u001b[0m_open_file_like\u001b[0m\u001b[0;34m(\u001b[0m\u001b[0mf\u001b[0m\u001b[0;34m,\u001b[0m \u001b[0;34m'wb'\u001b[0m\u001b[0;34m)\u001b[0m \u001b[0;32mas\u001b[0m \u001b[0mopened_file\u001b[0m\u001b[0;34m:\u001b[0m\u001b[0;34m\u001b[0m\u001b[0;34m\u001b[0m\u001b[0m\n\u001b[0m\u001b[1;32m    370\u001b[0m         \u001b[0;32mif\u001b[0m \u001b[0m_use_new_zipfile_serialization\u001b[0m\u001b[0;34m:\u001b[0m\u001b[0;34m\u001b[0m\u001b[0;34m\u001b[0m\u001b[0m\n\u001b[1;32m    371\u001b[0m             \u001b[0;32mwith\u001b[0m \u001b[0m_open_zipfile_writer\u001b[0m\u001b[0;34m(\u001b[0m\u001b[0mopened_file\u001b[0m\u001b[0;34m)\u001b[0m \u001b[0;32mas\u001b[0m \u001b[0mopened_zipfile\u001b[0m\u001b[0;34m:\u001b[0m\u001b[0;34m\u001b[0m\u001b[0;34m\u001b[0m\u001b[0m\n",
            "\u001b[0;32m/usr/local/lib/python3.6/dist-packages/torch/serialization.py\u001b[0m in \u001b[0;36m_open_file_like\u001b[0;34m(name_or_buffer, mode)\u001b[0m\n\u001b[1;32m    228\u001b[0m \u001b[0;32mdef\u001b[0m \u001b[0m_open_file_like\u001b[0m\u001b[0;34m(\u001b[0m\u001b[0mname_or_buffer\u001b[0m\u001b[0;34m,\u001b[0m \u001b[0mmode\u001b[0m\u001b[0;34m)\u001b[0m\u001b[0;34m:\u001b[0m\u001b[0;34m\u001b[0m\u001b[0;34m\u001b[0m\u001b[0m\n\u001b[1;32m    229\u001b[0m     \u001b[0;32mif\u001b[0m \u001b[0m_is_path\u001b[0m\u001b[0;34m(\u001b[0m\u001b[0mname_or_buffer\u001b[0m\u001b[0;34m)\u001b[0m\u001b[0;34m:\u001b[0m\u001b[0;34m\u001b[0m\u001b[0;34m\u001b[0m\u001b[0m\n\u001b[0;32m--> 230\u001b[0;31m         \u001b[0;32mreturn\u001b[0m \u001b[0m_open_file\u001b[0m\u001b[0;34m(\u001b[0m\u001b[0mname_or_buffer\u001b[0m\u001b[0;34m,\u001b[0m \u001b[0mmode\u001b[0m\u001b[0;34m)\u001b[0m\u001b[0;34m\u001b[0m\u001b[0;34m\u001b[0m\u001b[0m\n\u001b[0m\u001b[1;32m    231\u001b[0m     \u001b[0;32melse\u001b[0m\u001b[0;34m:\u001b[0m\u001b[0;34m\u001b[0m\u001b[0;34m\u001b[0m\u001b[0m\n\u001b[1;32m    232\u001b[0m         \u001b[0;32mif\u001b[0m \u001b[0;34m'w'\u001b[0m \u001b[0;32min\u001b[0m \u001b[0mmode\u001b[0m\u001b[0;34m:\u001b[0m\u001b[0;34m\u001b[0m\u001b[0;34m\u001b[0m\u001b[0m\n",
            "\u001b[0;32m/usr/local/lib/python3.6/dist-packages/torch/serialization.py\u001b[0m in \u001b[0;36m__init__\u001b[0;34m(self, name, mode)\u001b[0m\n\u001b[1;32m    209\u001b[0m \u001b[0;32mclass\u001b[0m \u001b[0m_open_file\u001b[0m\u001b[0;34m(\u001b[0m\u001b[0m_opener\u001b[0m\u001b[0;34m)\u001b[0m\u001b[0;34m:\u001b[0m\u001b[0;34m\u001b[0m\u001b[0;34m\u001b[0m\u001b[0m\n\u001b[1;32m    210\u001b[0m     \u001b[0;32mdef\u001b[0m \u001b[0m__init__\u001b[0m\u001b[0;34m(\u001b[0m\u001b[0mself\u001b[0m\u001b[0;34m,\u001b[0m \u001b[0mname\u001b[0m\u001b[0;34m,\u001b[0m \u001b[0mmode\u001b[0m\u001b[0;34m)\u001b[0m\u001b[0;34m:\u001b[0m\u001b[0;34m\u001b[0m\u001b[0;34m\u001b[0m\u001b[0m\n\u001b[0;32m--> 211\u001b[0;31m         \u001b[0msuper\u001b[0m\u001b[0;34m(\u001b[0m\u001b[0m_open_file\u001b[0m\u001b[0;34m,\u001b[0m \u001b[0mself\u001b[0m\u001b[0;34m)\u001b[0m\u001b[0;34m.\u001b[0m\u001b[0m__init__\u001b[0m\u001b[0;34m(\u001b[0m\u001b[0mopen\u001b[0m\u001b[0;34m(\u001b[0m\u001b[0mname\u001b[0m\u001b[0;34m,\u001b[0m \u001b[0mmode\u001b[0m\u001b[0;34m)\u001b[0m\u001b[0;34m)\u001b[0m\u001b[0;34m\u001b[0m\u001b[0;34m\u001b[0m\u001b[0m\n\u001b[0m\u001b[1;32m    212\u001b[0m \u001b[0;34m\u001b[0m\u001b[0m\n\u001b[1;32m    213\u001b[0m     \u001b[0;32mdef\u001b[0m \u001b[0m__exit__\u001b[0m\u001b[0;34m(\u001b[0m\u001b[0mself\u001b[0m\u001b[0;34m,\u001b[0m \u001b[0;34m*\u001b[0m\u001b[0margs\u001b[0m\u001b[0;34m)\u001b[0m\u001b[0;34m:\u001b[0m\u001b[0;34m\u001b[0m\u001b[0;34m\u001b[0m\u001b[0m\n",
            "\u001b[0;31mFileNotFoundError\u001b[0m: [Errno 2] No such file or directory: '/content/drive/MyDrive/input/modelbestnow.h5'"
          ]
        }
      ]
    },
    {
      "cell_type": "code",
      "metadata": {
        "id": "cal3lJhEFmP3"
      },
      "source": [
        "# Import PyDrive and associated libraries.\n",
        "# This only needs to be done once per notebook.\n",
        "from pydrive.auth import GoogleAuth\n",
        "from pydrive.drive import GoogleDrive\n",
        "from google.colab import auth\n",
        "from oauth2client.client import GoogleCredentials\n",
        "\n",
        "# Authenticate and create the PyDrive client.\n",
        "# This only needs to be done once per notebook.\n",
        "auth.authenticate_user()\n",
        "gauth = GoogleAuth()\n",
        "gauth.credentials = GoogleCredentials.get_application_default()\n",
        "drive = GoogleDrive(gauth)\n",
        "\n",
        "# Download a file based on its file ID.\n",
        "#\n",
        "# A file ID looks like: laggVyWshwcyP6kEI-y_W3P8D26sz\n",
        "file_id = 'REPLACE_WITH_YOUR_FILE_ID'\n",
        "downloaded = drive.CreateFile({'id': file_id})\n",
        "print('Downloaded content \"{}\"'.format(downloaded.GetContentString()))"
      ],
      "execution_count": null,
      "outputs": []
    },
    {
      "cell_type": "markdown",
      "metadata": {
        "id": "QRhUmP_II0uy"
      },
      "source": [
        "**MODEL EVALUATION**"
      ]
    },
    {
      "cell_type": "code",
      "metadata": {
        "id": "83sYS6z-fCsu"
      },
      "source": [
        "fig = plt.figure(num = 2)\n",
        "fig1 = fig.add_subplot(2,1,1)\n",
        "fig2 = fig.add_subplot(2,1,2)\n",
        "fig1.plot(total_loss_train, label = 'training loss')\n",
        "fig1.plot(total_acc_train, label = 'training accuracy')\n",
        "fig2.plot(total_loss_val, label = 'validation loss')\n",
        "fig2.plot(total_acc_val, label = 'validation accuracy')\n",
        "plt.legend()\n",
        "plt.show()"
      ],
      "execution_count": null,
      "outputs": []
    },
    {
      "cell_type": "code",
      "metadata": {
        "id": "NjiE0c7XfFsV"
      },
      "source": [
        "def plot_confusion_matrix(cm, classes,\n",
        "                          normalize=True,\n",
        "                          title='Confusion matrix',\n",
        "                          cmap=plt.cm.Blues):\n",
        "    \"\"\"\n",
        "    This function prints and plots the confusion matrix.\n",
        "    Normalization can be applied by setting `normalize=True`.\n",
        "    \"\"\"\n",
        "    plt.imshow(cm, interpolation='nearest', cmap=cmap)\n",
        "    plt.title(title)\n",
        "    plt.colorbar()\n",
        "    tick_marks = np.arange(len(classes))\n",
        "    plt.xticks(tick_marks, classes, rotation=45)\n",
        "    plt.yticks(tick_marks, classes)\n",
        "\n",
        "    if normalize:\n",
        "        cm = cm.astype('float') / cm.sum(axis=1)[:, np.newaxis]\n",
        "\n",
        "    thresh = cm.max() / 2.\n",
        "    for i, j in itertools.product(range(cm.shape[0]), range(cm.shape[1])):\n",
        "        plt.text(j, i, cm[i, j],\n",
        "                 horizontalalignment=\"center\",\n",
        "                 color=\"white\" if cm[i, j] > thresh else \"black\")\n",
        "\n",
        "    plt.tight_layout()\n",
        "    plt.ylabel('True label')\n",
        "    plt.xlabel('Predicted label')"
      ],
      "execution_count": null,
      "outputs": []
    },
    {
      "cell_type": "code",
      "metadata": {
        "id": "ChuVT_fyfHfi"
      },
      "source": [
        "model.eval()\n",
        "y_label = []\n",
        "y_predict = []\n",
        "with torch.no_grad():\n",
        "    for i, data in enumerate(val_loader):\n",
        "        images, labels = data\n",
        "        N = images.size(0)\n",
        "        images = Variable(images).to(device)\n",
        "        outputs = model(images)\n",
        "        prediction = outputs.max(1, keepdim=True)[1]\n",
        "        y_label.extend(labels.cpu().numpy())\n",
        "        y_predict.extend(np.squeeze(prediction.cpu().numpy().T))\n",
        "\n",
        "# compute the confusion matrix\n",
        "confusion_mtx = confusion_matrix(y_label, y_predict)\n",
        "# plot the confusion matrix\n",
        "plot_labels = ['akiec', 'bcc', 'bkl', 'df', 'nv', 'vasc','mel']\n",
        "plot_confusion_matrix(confusion_mtx, plot_labels)\n"
      ],
      "execution_count": null,
      "outputs": []
    },
    {
      "cell_type": "code",
      "metadata": {
        "id": "j7QZHcL3fJ9t"
      },
      "source": [
        "# Generate a classification report\n",
        "report = classification_report(y_label, y_predict, target_names=plot_labels)\n",
        "print(report)"
      ],
      "execution_count": null,
      "outputs": []
    },
    {
      "cell_type": "code",
      "metadata": {
        "id": "LjIf0A6DfMP3"
      },
      "source": [
        "label_frac_error = 1 - np.diag(confusion_mtx) / np.sum(confusion_mtx, axis=1)\n",
        "plt.bar(np.arange(7),label_frac_error)\n",
        "plt.xlabel('True Label')\n",
        "plt.ylabel('Fraction classified incorrectly')"
      ],
      "execution_count": null,
      "outputs": []
    }
  ]
}